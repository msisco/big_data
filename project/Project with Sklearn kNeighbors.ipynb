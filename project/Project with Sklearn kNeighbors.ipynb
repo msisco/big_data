{
 "cells": [
  {
   "cell_type": "code",
   "execution_count": 30,
   "metadata": {
    "collapsed": false
   },
   "outputs": [],
   "source": [
    "import pandas as pd\n",
    "import numpy as np\n",
    "from sklearn import datasets\n",
    "from sklearn.neighbors import KNeighborsClassifier"
   ]
  },
  {
   "cell_type": "code",
   "execution_count": null,
   "metadata": {
    "collapsed": false
   },
   "outputs": [],
   "source": []
  },
  {
   "cell_type": "code",
   "execution_count": null,
   "metadata": {
    "collapsed": false
   },
   "outputs": [],
   "source": []
  },
  {
   "cell_type": "code",
   "execution_count": 31,
   "metadata": {
    "collapsed": false
   },
   "outputs": [],
   "source": [
    "kdd = pd.read_csv(\"data/kddcup_data_10_percent\")"
   ]
  },
  {
   "cell_type": "code",
   "execution_count": null,
   "metadata": {
    "collapsed": false
   },
   "outputs": [],
   "source": []
  },
  {
   "cell_type": "code",
   "execution_count": 32,
   "metadata": {
    "collapsed": false
   },
   "outputs": [],
   "source": [
    "protocol_types = pd.unique(kdd.protocol_type.ravel())\n",
    "protocol_dict = dict(zip(protocol_types,range(protocol_types.size)))\n",
    "\n",
    "service_types = pd.unique(kdd.service.ravel())\n",
    "service_dict = dict(zip(service_types,range(service_types.size)))\n",
    "\n",
    "flag_types = pd.unique(kdd.flag.ravel())\n",
    "flag_dict = dict(zip(flag_types,range(flag_types.size)))\n",
    "classification_dict = {\"back.\": \"dos\",\"land.\":\"dos\",\"neptune.\": \"dos\", \"pod.\": \"dos\", \"smurf.\":\"dos\",\"teardrop.\":\"dos\",\"loadmodule.\":\"u2r\",\"buffer_overflow.\":\"u2r\",\"perl.\":\"u2r\",\"rootkit.\":\"u2r\",\"ftp_write.\":\"r2l\",\"guess_passwd.\":\"r2l\",\"imap.\":\"r2l\",\"multihop.\":\"r2l\",\"phf.\":\"r2l\",\"spy.\":\"r2l\",\"warezclient.\":\"r2l\",\"warezmaster.\":\"r2l\",\"ipsweep.\":\"probe\",\"nmap.\":\"probe\",\"portsweep.\":\"probe\",\"satan.\":\"probe\"}\n",
    "classification_dict_test = {\"back.\": \"dos\",\"land.\":\"dos\",\"neptune.\": \"dos\", \"pod.\": \"dos\", \"smurf.\":\"dos\",\"teardrop.\":\"dos\",\"loadmodule.\":\"u2r\",\"buffer_overflow.\":\"u2r\",\"perl.\":\"u2r\",\"rootkit.\":\"u2r\",\"ftp_write.\":\"r2l\",\"guess_passwd.\":\"r2l\",\"imap.\":\"r2l\",\"multihop.\":\"r2l\",\"phf.\":\"r2l\",\"spy.\":\"r2l\",\"warezclient.\":\"r2l\",\"warezmaster.\":\"r2l\",\"ipsweep.\":\"probe\",\"nmap.\":\"probe\",\"portsweep.\":\"probe\",\"satan.\":\"probe\",\"snmpgetattack.\":\"dos\",\"apache2.\":\"dos\",\"udpstorm.\":\"dos\",\"processtable.\":\"dos\",\"mailbomb.\":\"dos\",\"xterm.\":\"u2r\",\"ps.\":\"u2r\",\"sqlattack.\":\"u2r\",\"named.\":\"r2l\",\"xlock.\":\"r2l\",\"xsnoop.\":\"r2l\",\"sendmail.\":\"r2l\",\"httptunnel.\":\"r2l\",\"worm.\":\"r2l\",\"saint.\":\"probe\",\"mscan.\":\"probe\",\"snmpguess.\":\"probe\"}\n",
    "\n"
   ]
  },
  {
   "cell_type": "code",
   "execution_count": 33,
   "metadata": {
    "collapsed": false
   },
   "outputs": [],
   "source": [
    "kdd[\"protocol_type\"].replace(protocol_dict, inplace=True)\n",
    "kdd[\"service\"].replace(service_dict, inplace=True)\n",
    "kdd[\"flag\"].replace(flag_dict, inplace=True)\n",
    "kdd[\"classification\"].replace(classification_dict, inplace=True)"
   ]
  },
  {
   "cell_type": "code",
   "execution_count": null,
   "metadata": {
    "collapsed": false
   },
   "outputs": [],
   "source": []
  },
  {
   "cell_type": "code",
   "execution_count": 34,
   "metadata": {
    "collapsed": false
   },
   "outputs": [],
   "source": [
    "kdd_test = pd.read_csv(\"data/kddcup_test_data\")"
   ]
  },
  {
   "cell_type": "code",
   "execution_count": 35,
   "metadata": {
    "collapsed": false
   },
   "outputs": [],
   "source": [
    "\n",
    "kdd_test[\"protocol_type\"].replace(protocol_dict, inplace=True)\n",
    "kdd_test[\"service\"].replace(service_dict, inplace=True)\n",
    "kdd_test[\"flag\"].replace(flag_dict, inplace=True)\n",
    "kdd_test[\"classification\"].replace(classification_dict_test, inplace=True)\n",
    "kdd_test[\"service\"].replace({\"icmp\":65}, inplace=True)"
   ]
  },
  {
   "cell_type": "code",
   "execution_count": null,
   "metadata": {
    "collapsed": false
   },
   "outputs": [],
   "source": []
  },
  {
   "cell_type": "code",
   "execution_count": null,
   "metadata": {
    "collapsed": false
   },
   "outputs": [],
   "source": []
  },
  {
   "cell_type": "code",
   "execution_count": null,
   "metadata": {
    "collapsed": false
   },
   "outputs": [],
   "source": []
  },
  {
   "cell_type": "code",
   "execution_count": null,
   "metadata": {
    "collapsed": false
   },
   "outputs": [],
   "source": []
  },
  {
   "cell_type": "code",
   "execution_count": 55,
   "metadata": {
    "collapsed": false
   },
   "outputs": [],
   "source": [
    "values = kdd.values\n",
    "kdd_X_train = values[:,:41]\n",
    "kdd_y_train = values[:,41]\n",
    "\n",
    "values_test = kdd_test.values\n",
    "kdd_X_test = values_test[:,:41]\n",
    "kdd_y_test = values_test[:,41]\n",
    "\n",
    "\n",
    "\n"
   ]
  },
  {
   "cell_type": "code",
   "execution_count": null,
   "metadata": {
    "collapsed": false
   },
   "outputs": [],
   "source": []
  },
  {
   "cell_type": "code",
   "execution_count": 42,
   "metadata": {
    "collapsed": false
   },
   "outputs": [],
   "source": [
    "knn = KNeighborsClassifier()"
   ]
  },
  {
   "cell_type": "code",
   "execution_count": 43,
   "metadata": {
    "collapsed": false
   },
   "outputs": [
    {
     "data": {
      "text/plain": [
       "KNeighborsClassifier(algorithm='auto', leaf_size=30, metric='minkowski',\n",
       "           metric_params=None, n_jobs=1, n_neighbors=5, p=2,\n",
       "           weights='uniform')"
      ]
     },
     "execution_count": 43,
     "metadata": {},
     "output_type": "execute_result"
    }
   ],
   "source": [
    "knn.fit(kdd_X_train, kdd_y_train)"
   ]
  },
  {
   "cell_type": "code",
   "execution_count": null,
   "metadata": {
    "collapsed": false
   },
   "outputs": [],
   "source": []
  },
  {
   "cell_type": "code",
   "execution_count": 56,
   "metadata": {
    "collapsed": false
   },
   "outputs": [],
   "source": [
    "kdd_predict = knn.predict(kdd_X_test)"
   ]
  },
  {
   "cell_type": "code",
   "execution_count": 59,
   "metadata": {
    "collapsed": false
   },
   "outputs": [
    {
     "data": {
      "text/plain": [
       "[[0, 0, 0, 0, 0],\n",
       " [0, 0, 0, 0, 0],\n",
       " [0, 0, 0, 0, 0],\n",
       " [0, 0, 0, 0, 0],\n",
       " [0, 0, 0, 0, 0]]"
      ]
     },
     "execution_count": 59,
     "metadata": {},
     "output_type": "execute_result"
    }
   ],
   "source": [
    "#normal,probe,dos,u2r,r2l\n",
    "normal = [0,0,0,0,0]\n",
    "probe = [0,0,0,0,0]\n",
    "dos = [0,0,0,0,0]\n",
    "u2r = [0,0,0,0,0]\n",
    "r2l = [0,0,0,0,0]\n",
    "results_table = [normal,probe,dos,u2r,r2l]\n",
    "results_table"
   ]
  },
  {
   "cell_type": "code",
   "execution_count": 66,
   "metadata": {
    "collapsed": false
   },
   "outputs": [],
   "source": [
    "result_hash = {\"normal.\":0,\"probe\":1,\"dos\":2,\"u2r\":3,\"r2l\":4}\n",
    "for x in range(kdd_y_test.size):\n",
    "    results_table[result_hash[kdd_y_test[x]]][result_hash[kdd_predict[x]]]+=1"
   ]
  },
  {
   "cell_type": "code",
   "execution_count": 75,
   "metadata": {
    "collapsed": false
   },
   "outputs": [
    {
     "data": {
      "text/plain": [
       "array([[ 60260,    133,    187,      1,     12],\n",
       "       [  3157,   2867,    544,      0,      4],\n",
       "       [ 14290,    111, 223192,      0,      1],\n",
       "       [    57,      0,      0,     13,      0],\n",
       "       [  5559,    534,     98,      0,      9]])"
      ]
     },
     "execution_count": 75,
     "metadata": {},
     "output_type": "execute_result"
    }
   ],
   "source": [
    "results_table = np.array(results_table)\n",
    "results_table"
   ]
  },
  {
   "cell_type": "code",
   "execution_count": 70,
   "metadata": {
    "collapsed": false
   },
   "outputs": [
    {
     "data": {
      "text/plain": [
       "array([ 83323,   3645, 224021,     14,     26])"
      ]
     },
     "execution_count": 70,
     "metadata": {},
     "output_type": "execute_result"
    }
   ],
   "source": [
    "sum_predicted = results_table.sum(axis=0)\n",
    "sum_predicted"
   ]
  },
  {
   "cell_type": "code",
   "execution_count": 71,
   "metadata": {
    "collapsed": false
   },
   "outputs": [
    {
     "data": {
      "text/plain": [
       "array([ 60593,   6572, 237594,     70,   6200])"
      ]
     },
     "execution_count": 71,
     "metadata": {},
     "output_type": "execute_result"
    }
   ],
   "source": [
    "sum_actual = results_table.sum(axis= 1)\n",
    "sum_actual"
   ]
  },
  {
   "cell_type": "code",
   "execution_count": 73,
   "metadata": {
    "collapsed": false
   },
   "outputs": [
    {
     "data": {
      "text/plain": [
       "[0.9945043156800291,\n",
       " 0.43624467437614123,\n",
       " 0.9393839911782285,\n",
       " 0.18571428571428572,\n",
       " 0.0014516129032258066]"
      ]
     },
     "execution_count": 73,
     "metadata": {},
     "output_type": "execute_result"
    }
   ],
   "source": [
    "actual_percent = [float(results_table[0][0])/float(sum_actual[0]),float(results_table[1][1])/float(sum_actual[1]),float(results_table[2][2])/float(sum_actual[2]),float(results_table[3][3])/float(sum_actual[3]),float(results_table[4][4])/float(sum_actual[4])]\n",
    "actual_percent"
   ]
  },
  {
   "cell_type": "code",
   "execution_count": 74,
   "metadata": {
    "collapsed": false
   },
   "outputs": [
    {
     "data": {
      "text/plain": [
       "[0.723209678000072,\n",
       " 0.786556927297668,\n",
       " 0.9962994540690382,\n",
       " 0.9285714285714286,\n",
       " 0.34615384615384615]"
      ]
     },
     "execution_count": 74,
     "metadata": {},
     "output_type": "execute_result"
    }
   ],
   "source": [
    "predicted_percent = [float(results_table[0][0])/float(sum_predicted[0]),float(results_table[1][1])/float(sum_predicted[1]),float(results_table[2][2])/float(sum_predicted[2]),float(results_table[3][3])/float(sum_predicted[3]),float(results_table[4][4])/float(sum_predicted[4])]\n",
    "predicted_percent\n"
   ]
  },
  {
   "cell_type": "code",
   "execution_count": null,
   "metadata": {
    "collapsed": true
   },
   "outputs": [],
   "source": []
  }
 ],
 "metadata": {
  "kernelspec": {
   "display_name": "Python 2",
   "language": "python",
   "name": "python2"
  },
  "language_info": {
   "codemirror_mode": {
    "name": "ipython",
    "version": 2
   },
   "file_extension": ".py",
   "mimetype": "text/x-python",
   "name": "python",
   "nbconvert_exporter": "python",
   "pygments_lexer": "ipython2",
   "version": "2.7.9"
  }
 },
 "nbformat": 4,
 "nbformat_minor": 0
}
