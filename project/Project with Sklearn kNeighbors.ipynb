{
 "cells": [
  {
   "cell_type": "code",
   "execution_count": 30,
   "metadata": {
    "collapsed": false
   },
   "outputs": [],
   "source": [
    "import pandas as pd\n",
    "import numpy as np\n",
    "from sklearn import datasets\n",
    "from sklearn.neighbors import KNeighborsClassifier"
   ]
  },
  {
   "cell_type": "code",
   "execution_count": 31,
   "metadata": {
    "collapsed": false
   },
   "outputs": [],
   "source": [
    "kdd = pd.read_csv(\"data/kddcup_data_10_percent\")"
   ]
  },
  {
   "cell_type": "markdown",
   "metadata": {
    "collapsed": false
   },
   "source": [
    "Here we have to clean the Data for the K Neighbor algorithm. The Algorithm cannot deal with Strings so give each String a distince value.\n",
    "Create a Dictionary for each String."
   ]
  },
  {
   "cell_type": "code",
   "execution_count": 32,
   "metadata": {
    "collapsed": false
   },
   "outputs": [],
   "source": [
    "protocol_types = pd.unique(kdd.protocol_type.ravel())\n",
    "protocol_dict = dict(zip(protocol_types,range(protocol_types.size)))\n",
    "\n",
    "service_types = pd.unique(kdd.service.ravel())\n",
    "service_dict = dict(zip(service_types,range(service_types.size)))\n",
    "\n",
    "flag_types = pd.unique(kdd.flag.ravel())\n",
    "flag_dict = dict(zip(flag_types,range(flag_types.size)))\n",
    "classification_dict = {\"back.\": \"dos\",\"land.\":\"dos\",\"neptune.\": \"dos\", \"pod.\": \"dos\", \"smurf.\":\"dos\",\"teardrop.\":\"dos\",\"loadmodule.\":\"u2r\",\"buffer_overflow.\":\"u2r\",\"perl.\":\"u2r\",\"rootkit.\":\"u2r\",\"ftp_write.\":\"r2l\",\"guess_passwd.\":\"r2l\",\"imap.\":\"r2l\",\"multihop.\":\"r2l\",\"phf.\":\"r2l\",\"spy.\":\"r2l\",\"warezclient.\":\"r2l\",\"warezmaster.\":\"r2l\",\"ipsweep.\":\"probe\",\"nmap.\":\"probe\",\"portsweep.\":\"probe\",\"satan.\":\"probe\"}\n",
    "classification_dict_test = {\"back.\": \"dos\",\"land.\":\"dos\",\"neptune.\": \"dos\", \"pod.\": \"dos\", \"smurf.\":\"dos\",\"teardrop.\":\"dos\",\"loadmodule.\":\"u2r\",\"buffer_overflow.\":\"u2r\",\"perl.\":\"u2r\",\"rootkit.\":\"u2r\",\"ftp_write.\":\"r2l\",\"guess_passwd.\":\"r2l\",\"imap.\":\"r2l\",\"multihop.\":\"r2l\",\"phf.\":\"r2l\",\"spy.\":\"r2l\",\"warezclient.\":\"r2l\",\"warezmaster.\":\"r2l\",\"ipsweep.\":\"probe\",\"nmap.\":\"probe\",\"portsweep.\":\"probe\",\"satan.\":\"probe\",\"snmpgetattack.\":\"dos\",\"apache2.\":\"dos\",\"udpstorm.\":\"dos\",\"processtable.\":\"dos\",\"mailbomb.\":\"dos\",\"xterm.\":\"u2r\",\"ps.\":\"u2r\",\"sqlattack.\":\"u2r\",\"named.\":\"r2l\",\"xlock.\":\"r2l\",\"xsnoop.\":\"r2l\",\"sendmail.\":\"r2l\",\"httptunnel.\":\"r2l\",\"worm.\":\"r2l\",\"saint.\":\"probe\",\"mscan.\":\"probe\",\"snmpguess.\":\"probe\"}\n",
    "\n"
   ]
  },
  {
   "cell_type": "markdown",
   "metadata": {},
   "source": [
    "A quick way to replace values with a Dataframe is to use the replace method with a dictionary. It finds the key in that column and replaces it with the dictionary value."
   ]
  },
  {
   "cell_type": "code",
   "execution_count": 33,
   "metadata": {
    "collapsed": false
   },
   "outputs": [],
   "source": [
    "kdd[\"protocol_type\"].replace(protocol_dict, inplace=True)\n",
    "kdd[\"service\"].replace(service_dict, inplace=True)\n",
    "kdd[\"flag\"].replace(flag_dict, inplace=True)\n",
    "kdd[\"classification\"].replace(classification_dict, inplace=True)"
   ]
  },
  {
   "cell_type": "markdown",
   "metadata": {
    "collapsed": false
   },
   "source": [
    "Read in the Test Data and do the same code cleanup"
   ]
  },
  {
   "cell_type": "code",
   "execution_count": 34,
   "metadata": {
    "collapsed": false
   },
   "outputs": [],
   "source": [
    "kdd_test = pd.read_csv(\"data/kddcup_test_data\")"
   ]
  },
  {
   "cell_type": "code",
   "execution_count": 35,
   "metadata": {
    "collapsed": false
   },
   "outputs": [],
   "source": [
    "\n",
    "kdd_test[\"protocol_type\"].replace(protocol_dict, inplace=True)\n",
    "kdd_test[\"service\"].replace(service_dict, inplace=True)\n",
    "kdd_test[\"flag\"].replace(flag_dict, inplace=True)\n",
    "kdd_test[\"classification\"].replace(classification_dict_test, inplace=True)\n",
    "kdd_test[\"service\"].replace({\"icmp\":65}, inplace=True)"
   ]
  },
  {
   "cell_type": "markdown",
   "metadata": {
    "collapsed": false
   },
   "source": [
    "Create the Training and Testing Data and it's associated category"
   ]
  },
  {
   "cell_type": "code",
   "execution_count": 55,
   "metadata": {
    "collapsed": false
   },
   "outputs": [],
   "source": [
    "values = kdd.values\n",
    "kdd_X_train = values[:,:41]\n",
    "kdd_y_train = values[:,41]\n",
    "\n",
    "values_test = kdd_test.values\n",
    "kdd_X_test = values_test[:,:41]\n",
    "kdd_y_test = values_test[:,41]\n",
    "\n",
    "\n",
    "\n"
   ]
  },
  {
   "cell_type": "markdown",
   "metadata": {
    "collapsed": false
   },
   "source": [
    "Using the sklearn package is very simple. Simply create an instance of K Nearest Neighbors and then fit the data based on the training set and its classifications. Here I am using the default parameters that comes with the KNeighborsClassifier class. It chooses the algorithm, leaf size as 30 a minkowski metric for determining distance, and uses the 5 nearest neighbors to choose.\n",
    "\n",
    "Then predict the test data to see how well it did."
   ]
  },
  {
   "cell_type": "code",
   "execution_count": 42,
   "metadata": {
    "collapsed": false
   },
   "outputs": [],
   "source": [
    "knn = KNeighborsClassifier()"
   ]
  },
  {
   "cell_type": "code",
   "execution_count": 43,
   "metadata": {
    "collapsed": false
   },
   "outputs": [
    {
     "data": {
      "text/plain": [
       "KNeighborsClassifier(algorithm='auto', leaf_size=30, metric='minkowski',\n",
       "           metric_params=None, n_jobs=1, n_neighbors=5, p=2,\n",
       "           weights='uniform')"
      ]
     },
     "execution_count": 43,
     "metadata": {},
     "output_type": "execute_result"
    }
   ],
   "source": [
    "knn.fit(kdd_X_train, kdd_y_train)"
   ]
  },
  {
   "cell_type": "code",
   "execution_count": null,
   "metadata": {
    "collapsed": false
   },
   "outputs": [],
   "source": []
  },
  {
   "cell_type": "code",
   "execution_count": 56,
   "metadata": {
    "collapsed": false
   },
   "outputs": [],
   "source": [
    "kdd_predict = knn.predict(kdd_X_test)"
   ]
  },
  {
   "cell_type": "code",
   "execution_count": 59,
   "metadata": {
    "collapsed": false
   },
   "outputs": [
    {
     "data": {
      "text/plain": [
       "[[0, 0, 0, 0, 0],\n",
       " [0, 0, 0, 0, 0],\n",
       " [0, 0, 0, 0, 0],\n",
       " [0, 0, 0, 0, 0],\n",
       " [0, 0, 0, 0, 0]]"
      ]
     },
     "execution_count": 59,
     "metadata": {},
     "output_type": "execute_result"
    }
   ],
   "source": [
    "#normal,probe,dos,u2r,r2l\n",
    "normal = [0,0,0,0,0]\n",
    "probe = [0,0,0,0,0]\n",
    "dos = [0,0,0,0,0]\n",
    "u2r = [0,0,0,0,0]\n",
    "r2l = [0,0,0,0,0]\n",
    "results_table = [normal,probe,dos,u2r,r2l]\n",
    "results_table"
   ]
  },
  {
   "cell_type": "code",
   "execution_count": 66,
   "metadata": {
    "collapsed": false
   },
   "outputs": [],
   "source": [
    "result_hash = {\"normal.\":0,\"probe\":1,\"dos\":2,\"u2r\":3,\"r2l\":4}\n",
    "for x in range(kdd_y_test.size):\n",
    "    results_table[result_hash[kdd_y_test[x]]][result_hash[kdd_predict[x]]]+=1"
   ]
  },
  {
   "cell_type": "code",
   "execution_count": 75,
   "metadata": {
    "collapsed": false
   },
   "outputs": [
    {
     "data": {
      "text/plain": [
       "array([[ 60260,    133,    187,      1,     12],\n",
       "       [  3157,   2867,    544,      0,      4],\n",
       "       [ 14290,    111, 223192,      0,      1],\n",
       "       [    57,      0,      0,     13,      0],\n",
       "       [  5559,    534,     98,      0,      9]])"
      ]
     },
     "execution_count": 75,
     "metadata": {},
     "output_type": "execute_result"
    }
   ],
   "source": [
    "results_table = np.array(results_table)\n",
    "results_table"
   ]
  },
  {
   "cell_type": "code",
   "execution_count": null,
   "metadata": {
    "collapsed": false
   },
   "outputs": [],
   "source": []
  },
  {
   "cell_type": "markdown",
   "metadata": {
    "collapsed": true
   },
   "source": [
    "<html>\n",
    "<head>\n",
    "<title>K Nearest Neighbors Confusion Matrix</title>\n",
    "</head>\n",
    "<body>\n",
    "<p>K Nearest Neighbors Confusion Matrix</p>\n",
    "<table border=\"1\">\n",
    "<tr>\n",
    "<td><p>Predicted</p><p> Actual</p></td>\n",
    "<td>Normal</td>\n",
    "<td>Probe</td>\n",
    "<td>DOS</td>\n",
    "<td>U2R</td>\n",
    "<td>R2L</td>\n",
    "<td>Correct %</td>\n",
    "</tr>\n",
    "<tr>\n",
    "<td>normal</td>\n",
    "<td>60260</td>\n",
    "<td>133</td>\n",
    "<td>187</td>\n",
    "<td>1</td>\n",
    "<td>12</td>\n",
    "<td>99.4%</td>\n",
    "</tr>\n",
    "<tr>\n",
    "<td>probe</td>\n",
    "<td>3157</td>\n",
    "<td>2867</td>\n",
    "<td>544</td>\n",
    "<td>0</td>\n",
    "<td>4</td>\n",
    "<td>43.6%</td>\n",
    "\n",
    "</tr>\n",
    "<tr>\n",
    "<td>DOS</td>\n",
    "<td>14290</td>\n",
    "<td>111</td>\n",
    "<td>223192</td>\n",
    "<td>0</td>\n",
    "<td>1</td>\n",
    "<td>93.9%</td>\n",
    "</tr>\n",
    "<tr>\n",
    "<td>U2r</td>\n",
    "<td>57</td>\n",
    "<td>0</td>\n",
    "<td>0</td>\n",
    "<td>13</td>\n",
    "<td>0</td>\n",
    "<td>18.5%</td>\n",
    "</tr>\n",
    "<tr>\n",
    "<td>R2L</td>\n",
    "<td>5559</td>\n",
    "<td>534</td>\n",
    "<td>98</td>\n",
    "<td>0</td>\n",
    "<td>9</td>\n",
    "<td>0.1%</td>\n",
    "</tr>\n",
    "<tr>\n",
    "<td>Correct %</td>\n",
    "<td>72.3%</td>\n",
    "<td>78.6%</td>\n",
    "<td>99.6%</td>\n",
    "<td>92.8%</td>\n",
    "<td>34.6%</td>\n",
    "<td></td>\n",
    "</tr>\n",
    "</table>\n",
    "</body>\n",
    "</html>"
   ]
  },
  {
   "cell_type": "markdown",
   "metadata": {
    "collapsed": true
   },
   "source": [
    "\n",
    "<html>\n",
    "<head>\n",
    "<title>HTML Tables</title>\n",
    "</head>\n",
    "<body>\n",
    "<p>Association Confusion Matrix </p>\n",
    "<table border=\"1\">\n",
    "<tr>\n",
    "<td><p>Predicted</p><p> Actual</p></td>\n",
    "<td>Normal</td>\n",
    "<td>Probe</td>\n",
    "<td>DOS</td>\n",
    "<td>U2R</td>\n",
    "<td>R2L</td>\n",
    "<td>Correct %</td>\n",
    "</tr>\n",
    "<tr>\n",
    "<td>normal</td>\n",
    "<td>52681</td>\n",
    "<td>6089</td>\n",
    "<td>660</td>\n",
    "<td>593</td>\n",
    "<td>570</td>\n",
    "<td>86.9%</td>\n",
    "</tr>\n",
    "<tr>\n",
    "<td>probe</td>\n",
    "<td>1495</td>\n",
    "<td>4667</td>\n",
    "<td>4</td>\n",
    "<td>2</td>\n",
    "<td>404</td>\n",
    "<td>71.0%</td>\n",
    "\n",
    "</tr>\n",
    "<tr>\n",
    "<td>DOS</td>\n",
    "<td>14330</td>\n",
    "<td>59026</td>\n",
    "<td>163968</td>\n",
    "<td>171</td>\n",
    "<td>99</td>\n",
    "<td>69.0%</td>\n",
    "</tr>\n",
    "<tr>\n",
    "<td>U2r</td>\n",
    "<td>1</td>\n",
    "<td>11</td>\n",
    "<td>0</td>\n",
    "<td>52</td>\n",
    "<td>6</td>\n",
    "<td>74.2%</td>\n",
    "</tr>\n",
    "<tr>\n",
    "<td>R2L</td>\n",
    "<td>3809</td>\n",
    "<td>622</td>\n",
    "<td>0</td>\n",
    "<td>803</td>\n",
    "<td>966</td>\n",
    "<td>15.5%</td>\n",
    "</tr>\n",
    "<tr>\n",
    "<td>Correct %</td>\n",
    "<td>72.8%</td>\n",
    "<td>6.6%</td>\n",
    "<td>99.5%</td>\n",
    "<td>3.2%</td>\n",
    "<td>47.2%</td>\n",
    "<td></td>\n",
    "</tr>\n",
    "</table>\n",
    "</body>\n",
    "</html>"
   ]
  },
  {
   "cell_type": "markdown",
   "metadata": {},
   "source": [
    "  <html>\n",
    "<head>\n",
    "<title>HTML Tables</title>\n",
    "</head>\n",
    "<body>\n",
    "<p>Winners of the KDD-99 Cup Confusion Matrix </p>\n",
    "<table border=\"1\">\n",
    "<tr>\n",
    "<td><p>Predicted</p><p> Actual</p></td>\n",
    "<td>Normal</td>\n",
    "<td>Probe</td>\n",
    "<td>DOS</td>\n",
    "<td>U2R</td>\n",
    "<td>R2L</td>\n",
    "<td>Correct %</td>\n",
    "</tr>\n",
    "<tr>\n",
    "<td>normal</td>\n",
    "<td>60262</td>\n",
    "<td>243</td>\n",
    "<td>78</td>\n",
    "<td>4</td>\n",
    "<td>6</td>\n",
    "<td>99.5%</td>\n",
    "</tr>\n",
    "<tr>\n",
    "<td>probe</td>\n",
    "<td>511</td>\n",
    "<td>3471</td>\n",
    "<td>184</td>\n",
    "<td>0</td>\n",
    "<td>0</td>\n",
    "<td>83.3%</td>\n",
    "\n",
    "</tr>\n",
    "<tr>\n",
    "<td>DOS</td>\n",
    "<td>5299</td>\n",
    "<td>1328</td>\n",
    "<td>223226</td>\n",
    "<td>0</td>\n",
    "<td>0</td>\n",
    "<td>97.1%</td>\n",
    "</tr>\n",
    "<tr>\n",
    "<td>U2r</td>\n",
    "<td>168</td>\n",
    "<td>20</td>\n",
    "<td>0</td>\n",
    "<td>30</td>\n",
    "<td>10</td>\n",
    "<td>13.2%</td>\n",
    "</tr>\n",
    "<tr>\n",
    "<td>R2L</td>\n",
    "<td>14527</td>\n",
    "<td>294</td>\n",
    "<td>0</td>\n",
    "<td>8</td>\n",
    "<td>1360</td>\n",
    "<td>8.4%</td>\n",
    "</tr>\n",
    "<tr>\n",
    "<td>Correct %</td>\n",
    "<td>74.6%</td>\n",
    "<td>64.8% %</td>\n",
    "<td>99.9%</td>\n",
    "<td>71.4%</td>\n",
    "<td>98.8%</td>\n",
    "<td></td>\n",
    "</tr>\n",
    "</table>\n",
    "</body>\n",
    "</html>    \n"
   ]
  },
  {
   "cell_type": "code",
   "execution_count": null,
   "metadata": {
    "collapsed": true
   },
   "outputs": [],
   "source": []
  }
 ],
 "metadata": {
  "kernelspec": {
   "display_name": "Python 2",
   "language": "python",
   "name": "python2"
  },
  "language_info": {
   "codemirror_mode": {
    "name": "ipython",
    "version": 2
   },
   "file_extension": ".py",
   "mimetype": "text/x-python",
   "name": "python",
   "nbconvert_exporter": "python",
   "pygments_lexer": "ipython2",
   "version": "2.7.9"
  }
 },
 "nbformat": 4,
 "nbformat_minor": 0
}
