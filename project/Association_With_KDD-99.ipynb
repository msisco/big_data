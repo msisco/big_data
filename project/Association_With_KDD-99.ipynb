{
 "cells": [
  {
   "cell_type": "code",
   "execution_count": 1,
   "metadata": {
    "collapsed": true
   },
   "outputs": [],
   "source": [
    "import pandas as pd\n",
    "import numpy as np"
   ]
  },
  {
   "cell_type": "code",
   "execution_count": null,
   "metadata": {
    "collapsed": false
   },
   "outputs": [],
   "source": []
  },
  {
   "cell_type": "markdown",
   "metadata": {
    "collapsed": true
   },
   "source": [
    "duration \t    length (number of seconds) of the connection \n",
    "protocol_type \ttype of the protocol, e.g. tcp, udp, etc. \t\n",
    "service \t    network service on the destination, e.g., http, telnet, etc. \t\n",
    "src_bytes \t    number of data bytes from source to destination\n",
    "dst_bytes \t    number of data bytes from destination to source \t\n",
    "flag \t        normal or error status of the connection \t \n",
    "land \t        1 if connection is from/to the same host/port; 0 otherwise \t\n",
    "wrong_fragment \tnumber of wrong fragments \n",
    "urgent       \tnumber of urgent packets \tcontinuous\n",
    " \n",
    "Table 1: Basic features of individual TCP connections.\n",
    " \n",
    "hot \t            number of hot indicators\n",
    "num_failed_logins \tnumber of failed login attempts \t\n",
    "logged_in \t        1 if successfully logged in; 0 otherwise \t\n",
    "num_compromised \tnumber of compromised conditions \t\n",
    "root_shell \t        1 if root shell is obtained; 0 otherwise \t\n",
    "su_attempted \t    1 if su root command attempted; 0 otherwise \n",
    "num_root \t        number of root accesses \t\n",
    "num_file_creations \tnumber of file creation operations \t\n",
    "num_shells \t        number of shell prompts \t\n",
    "num_access_files \tnumber of operations on access control files \t\n",
    "num_outbound_cmds\tnumber of outbound commands in an ftp session \t\n",
    "is_hot_login \t    1 if the login belongs to the hot list; 0 otherwise \n",
    "is_guest_login \t    1 if the login is a guest login; 0 otherwise \n",
    "  \n",
    "Table 2: Content features within a connection suggested by domain knowledge.\n",
    " \n",
    "\n",
    "count number of connections to the same host as the current connection in the past two seconds \t\n",
    "Note: The following  features refer to these same-host connections.\t\n",
    "serror_rate \t% of connections that have SYN errors \t\n",
    "rerror_rate \t% of connections that have REJ errors \t\n",
    "same_srv_rate \t% of connections to the same service \t\n",
    "diff_srv_rate \t% of connections to different services\n",
    "\n",
    "srv_count \t   number of connections to the same service as the current connection in the past two seconds\n",
    "Note: The following features refer to these same-service connections.\t\n",
    "srv_serror_rate \t% of connections that have SYN errors \n",
    "srv_rerror_rate \t% of connections that have REJ errors \n",
    "srv_diff_host_rate \t% of connections to different hosts "
   ]
  },
  {
   "cell_type": "code",
   "execution_count": 2,
   "metadata": {
    "collapsed": false
   },
   "outputs": [
    {
     "data": {
      "text/html": [
       "<div>\n",
       "<table border=\"1\" class=\"dataframe\">\n",
       "  <thead>\n",
       "    <tr style=\"text-align: right;\">\n",
       "      <th></th>\n",
       "      <th>duration</th>\n",
       "      <th>protocol_type</th>\n",
       "      <th>service</th>\n",
       "      <th>flag</th>\n",
       "      <th>src_bytes</th>\n",
       "      <th>dst_bytes</th>\n",
       "      <th>land</th>\n",
       "      <th>wrong_fragment</th>\n",
       "      <th>urgent</th>\n",
       "      <th>hot</th>\n",
       "      <th>...</th>\n",
       "      <th>dst_host_srv_count</th>\n",
       "      <th>dst_host_same_srv_rate</th>\n",
       "      <th>dst_host_diff_srv_rate</th>\n",
       "      <th>dst_host_same_src_port_rate</th>\n",
       "      <th>dst_host_srv_diff_host_rate</th>\n",
       "      <th>dst_host_serror_rate</th>\n",
       "      <th>dst_host_srv_serror_rate</th>\n",
       "      <th>dst_host_rerror_rate</th>\n",
       "      <th>dst_host_srv_rerror_rate</th>\n",
       "      <th>classification</th>\n",
       "    </tr>\n",
       "  </thead>\n",
       "  <tbody>\n",
       "    <tr>\n",
       "      <th>0</th>\n",
       "      <td>0</td>\n",
       "      <td>tcp</td>\n",
       "      <td>http</td>\n",
       "      <td>SF</td>\n",
       "      <td>181</td>\n",
       "      <td>5450</td>\n",
       "      <td>0</td>\n",
       "      <td>0</td>\n",
       "      <td>0</td>\n",
       "      <td>0</td>\n",
       "      <td>...</td>\n",
       "      <td>9</td>\n",
       "      <td>1</td>\n",
       "      <td>0</td>\n",
       "      <td>0.11</td>\n",
       "      <td>0.00</td>\n",
       "      <td>0.00</td>\n",
       "      <td>0.00</td>\n",
       "      <td>0.00</td>\n",
       "      <td>0</td>\n",
       "      <td>normal.</td>\n",
       "    </tr>\n",
       "    <tr>\n",
       "      <th>1</th>\n",
       "      <td>0</td>\n",
       "      <td>tcp</td>\n",
       "      <td>http</td>\n",
       "      <td>SF</td>\n",
       "      <td>239</td>\n",
       "      <td>486</td>\n",
       "      <td>0</td>\n",
       "      <td>0</td>\n",
       "      <td>0</td>\n",
       "      <td>0</td>\n",
       "      <td>...</td>\n",
       "      <td>19</td>\n",
       "      <td>1</td>\n",
       "      <td>0</td>\n",
       "      <td>0.05</td>\n",
       "      <td>0.00</td>\n",
       "      <td>0.00</td>\n",
       "      <td>0.00</td>\n",
       "      <td>0.00</td>\n",
       "      <td>0</td>\n",
       "      <td>normal.</td>\n",
       "    </tr>\n",
       "    <tr>\n",
       "      <th>2</th>\n",
       "      <td>0</td>\n",
       "      <td>tcp</td>\n",
       "      <td>http</td>\n",
       "      <td>SF</td>\n",
       "      <td>235</td>\n",
       "      <td>1337</td>\n",
       "      <td>0</td>\n",
       "      <td>0</td>\n",
       "      <td>0</td>\n",
       "      <td>0</td>\n",
       "      <td>...</td>\n",
       "      <td>29</td>\n",
       "      <td>1</td>\n",
       "      <td>0</td>\n",
       "      <td>0.03</td>\n",
       "      <td>0.00</td>\n",
       "      <td>0.00</td>\n",
       "      <td>0.00</td>\n",
       "      <td>0.00</td>\n",
       "      <td>0</td>\n",
       "      <td>normal.</td>\n",
       "    </tr>\n",
       "    <tr>\n",
       "      <th>3</th>\n",
       "      <td>0</td>\n",
       "      <td>tcp</td>\n",
       "      <td>http</td>\n",
       "      <td>SF</td>\n",
       "      <td>219</td>\n",
       "      <td>1337</td>\n",
       "      <td>0</td>\n",
       "      <td>0</td>\n",
       "      <td>0</td>\n",
       "      <td>0</td>\n",
       "      <td>...</td>\n",
       "      <td>39</td>\n",
       "      <td>1</td>\n",
       "      <td>0</td>\n",
       "      <td>0.03</td>\n",
       "      <td>0.00</td>\n",
       "      <td>0.00</td>\n",
       "      <td>0.00</td>\n",
       "      <td>0.00</td>\n",
       "      <td>0</td>\n",
       "      <td>normal.</td>\n",
       "    </tr>\n",
       "    <tr>\n",
       "      <th>4</th>\n",
       "      <td>0</td>\n",
       "      <td>tcp</td>\n",
       "      <td>http</td>\n",
       "      <td>SF</td>\n",
       "      <td>217</td>\n",
       "      <td>2032</td>\n",
       "      <td>0</td>\n",
       "      <td>0</td>\n",
       "      <td>0</td>\n",
       "      <td>0</td>\n",
       "      <td>...</td>\n",
       "      <td>49</td>\n",
       "      <td>1</td>\n",
       "      <td>0</td>\n",
       "      <td>0.02</td>\n",
       "      <td>0.00</td>\n",
       "      <td>0.00</td>\n",
       "      <td>0.00</td>\n",
       "      <td>0.00</td>\n",
       "      <td>0</td>\n",
       "      <td>normal.</td>\n",
       "    </tr>\n",
       "    <tr>\n",
       "      <th>5</th>\n",
       "      <td>0</td>\n",
       "      <td>tcp</td>\n",
       "      <td>http</td>\n",
       "      <td>SF</td>\n",
       "      <td>217</td>\n",
       "      <td>2032</td>\n",
       "      <td>0</td>\n",
       "      <td>0</td>\n",
       "      <td>0</td>\n",
       "      <td>0</td>\n",
       "      <td>...</td>\n",
       "      <td>59</td>\n",
       "      <td>1</td>\n",
       "      <td>0</td>\n",
       "      <td>0.02</td>\n",
       "      <td>0.00</td>\n",
       "      <td>0.00</td>\n",
       "      <td>0.00</td>\n",
       "      <td>0.00</td>\n",
       "      <td>0</td>\n",
       "      <td>normal.</td>\n",
       "    </tr>\n",
       "    <tr>\n",
       "      <th>6</th>\n",
       "      <td>0</td>\n",
       "      <td>tcp</td>\n",
       "      <td>http</td>\n",
       "      <td>SF</td>\n",
       "      <td>212</td>\n",
       "      <td>1940</td>\n",
       "      <td>0</td>\n",
       "      <td>0</td>\n",
       "      <td>0</td>\n",
       "      <td>0</td>\n",
       "      <td>...</td>\n",
       "      <td>69</td>\n",
       "      <td>1</td>\n",
       "      <td>0</td>\n",
       "      <td>1.00</td>\n",
       "      <td>0.04</td>\n",
       "      <td>0.00</td>\n",
       "      <td>0.00</td>\n",
       "      <td>0.00</td>\n",
       "      <td>0</td>\n",
       "      <td>normal.</td>\n",
       "    </tr>\n",
       "    <tr>\n",
       "      <th>7</th>\n",
       "      <td>0</td>\n",
       "      <td>tcp</td>\n",
       "      <td>http</td>\n",
       "      <td>SF</td>\n",
       "      <td>159</td>\n",
       "      <td>4087</td>\n",
       "      <td>0</td>\n",
       "      <td>0</td>\n",
       "      <td>0</td>\n",
       "      <td>0</td>\n",
       "      <td>...</td>\n",
       "      <td>79</td>\n",
       "      <td>1</td>\n",
       "      <td>0</td>\n",
       "      <td>0.09</td>\n",
       "      <td>0.04</td>\n",
       "      <td>0.00</td>\n",
       "      <td>0.00</td>\n",
       "      <td>0.00</td>\n",
       "      <td>0</td>\n",
       "      <td>normal.</td>\n",
       "    </tr>\n",
       "    <tr>\n",
       "      <th>8</th>\n",
       "      <td>0</td>\n",
       "      <td>tcp</td>\n",
       "      <td>http</td>\n",
       "      <td>SF</td>\n",
       "      <td>210</td>\n",
       "      <td>151</td>\n",
       "      <td>0</td>\n",
       "      <td>0</td>\n",
       "      <td>0</td>\n",
       "      <td>0</td>\n",
       "      <td>...</td>\n",
       "      <td>89</td>\n",
       "      <td>1</td>\n",
       "      <td>0</td>\n",
       "      <td>0.12</td>\n",
       "      <td>0.04</td>\n",
       "      <td>0.00</td>\n",
       "      <td>0.00</td>\n",
       "      <td>0.00</td>\n",
       "      <td>0</td>\n",
       "      <td>normal.</td>\n",
       "    </tr>\n",
       "    <tr>\n",
       "      <th>9</th>\n",
       "      <td>0</td>\n",
       "      <td>tcp</td>\n",
       "      <td>http</td>\n",
       "      <td>SF</td>\n",
       "      <td>212</td>\n",
       "      <td>786</td>\n",
       "      <td>0</td>\n",
       "      <td>0</td>\n",
       "      <td>0</td>\n",
       "      <td>1</td>\n",
       "      <td>...</td>\n",
       "      <td>99</td>\n",
       "      <td>1</td>\n",
       "      <td>0</td>\n",
       "      <td>0.12</td>\n",
       "      <td>0.05</td>\n",
       "      <td>0.00</td>\n",
       "      <td>0.00</td>\n",
       "      <td>0.00</td>\n",
       "      <td>0</td>\n",
       "      <td>normal.</td>\n",
       "    </tr>\n",
       "    <tr>\n",
       "      <th>10</th>\n",
       "      <td>0</td>\n",
       "      <td>tcp</td>\n",
       "      <td>http</td>\n",
       "      <td>SF</td>\n",
       "      <td>210</td>\n",
       "      <td>624</td>\n",
       "      <td>0</td>\n",
       "      <td>0</td>\n",
       "      <td>0</td>\n",
       "      <td>0</td>\n",
       "      <td>...</td>\n",
       "      <td>109</td>\n",
       "      <td>1</td>\n",
       "      <td>0</td>\n",
       "      <td>0.06</td>\n",
       "      <td>0.05</td>\n",
       "      <td>0.00</td>\n",
       "      <td>0.00</td>\n",
       "      <td>0.00</td>\n",
       "      <td>0</td>\n",
       "      <td>normal.</td>\n",
       "    </tr>\n",
       "    <tr>\n",
       "      <th>11</th>\n",
       "      <td>0</td>\n",
       "      <td>tcp</td>\n",
       "      <td>http</td>\n",
       "      <td>SF</td>\n",
       "      <td>177</td>\n",
       "      <td>1985</td>\n",
       "      <td>0</td>\n",
       "      <td>0</td>\n",
       "      <td>0</td>\n",
       "      <td>0</td>\n",
       "      <td>...</td>\n",
       "      <td>119</td>\n",
       "      <td>1</td>\n",
       "      <td>0</td>\n",
       "      <td>0.04</td>\n",
       "      <td>0.04</td>\n",
       "      <td>0.00</td>\n",
       "      <td>0.00</td>\n",
       "      <td>0.00</td>\n",
       "      <td>0</td>\n",
       "      <td>normal.</td>\n",
       "    </tr>\n",
       "    <tr>\n",
       "      <th>12</th>\n",
       "      <td>0</td>\n",
       "      <td>tcp</td>\n",
       "      <td>http</td>\n",
       "      <td>SF</td>\n",
       "      <td>222</td>\n",
       "      <td>773</td>\n",
       "      <td>0</td>\n",
       "      <td>0</td>\n",
       "      <td>0</td>\n",
       "      <td>0</td>\n",
       "      <td>...</td>\n",
       "      <td>129</td>\n",
       "      <td>1</td>\n",
       "      <td>0</td>\n",
       "      <td>0.03</td>\n",
       "      <td>0.04</td>\n",
       "      <td>0.00</td>\n",
       "      <td>0.00</td>\n",
       "      <td>0.00</td>\n",
       "      <td>0</td>\n",
       "      <td>normal.</td>\n",
       "    </tr>\n",
       "    <tr>\n",
       "      <th>13</th>\n",
       "      <td>0</td>\n",
       "      <td>tcp</td>\n",
       "      <td>http</td>\n",
       "      <td>SF</td>\n",
       "      <td>256</td>\n",
       "      <td>1169</td>\n",
       "      <td>0</td>\n",
       "      <td>0</td>\n",
       "      <td>0</td>\n",
       "      <td>0</td>\n",
       "      <td>...</td>\n",
       "      <td>139</td>\n",
       "      <td>1</td>\n",
       "      <td>0</td>\n",
       "      <td>0.25</td>\n",
       "      <td>0.04</td>\n",
       "      <td>0.00</td>\n",
       "      <td>0.00</td>\n",
       "      <td>0.00</td>\n",
       "      <td>0</td>\n",
       "      <td>normal.</td>\n",
       "    </tr>\n",
       "    <tr>\n",
       "      <th>14</th>\n",
       "      <td>0</td>\n",
       "      <td>tcp</td>\n",
       "      <td>http</td>\n",
       "      <td>SF</td>\n",
       "      <td>241</td>\n",
       "      <td>259</td>\n",
       "      <td>0</td>\n",
       "      <td>0</td>\n",
       "      <td>0</td>\n",
       "      <td>0</td>\n",
       "      <td>...</td>\n",
       "      <td>149</td>\n",
       "      <td>1</td>\n",
       "      <td>0</td>\n",
       "      <td>0.07</td>\n",
       "      <td>0.04</td>\n",
       "      <td>0.00</td>\n",
       "      <td>0.00</td>\n",
       "      <td>0.00</td>\n",
       "      <td>0</td>\n",
       "      <td>normal.</td>\n",
       "    </tr>\n",
       "    <tr>\n",
       "      <th>15</th>\n",
       "      <td>0</td>\n",
       "      <td>tcp</td>\n",
       "      <td>http</td>\n",
       "      <td>SF</td>\n",
       "      <td>260</td>\n",
       "      <td>1837</td>\n",
       "      <td>0</td>\n",
       "      <td>0</td>\n",
       "      <td>0</td>\n",
       "      <td>0</td>\n",
       "      <td>...</td>\n",
       "      <td>159</td>\n",
       "      <td>1</td>\n",
       "      <td>0</td>\n",
       "      <td>0.04</td>\n",
       "      <td>0.04</td>\n",
       "      <td>0.00</td>\n",
       "      <td>0.00</td>\n",
       "      <td>0.00</td>\n",
       "      <td>0</td>\n",
       "      <td>normal.</td>\n",
       "    </tr>\n",
       "    <tr>\n",
       "      <th>16</th>\n",
       "      <td>0</td>\n",
       "      <td>tcp</td>\n",
       "      <td>http</td>\n",
       "      <td>SF</td>\n",
       "      <td>241</td>\n",
       "      <td>261</td>\n",
       "      <td>0</td>\n",
       "      <td>0</td>\n",
       "      <td>0</td>\n",
       "      <td>0</td>\n",
       "      <td>...</td>\n",
       "      <td>169</td>\n",
       "      <td>1</td>\n",
       "      <td>0</td>\n",
       "      <td>0.03</td>\n",
       "      <td>0.04</td>\n",
       "      <td>0.00</td>\n",
       "      <td>0.00</td>\n",
       "      <td>0.00</td>\n",
       "      <td>0</td>\n",
       "      <td>normal.</td>\n",
       "    </tr>\n",
       "    <tr>\n",
       "      <th>17</th>\n",
       "      <td>0</td>\n",
       "      <td>tcp</td>\n",
       "      <td>http</td>\n",
       "      <td>SF</td>\n",
       "      <td>257</td>\n",
       "      <td>818</td>\n",
       "      <td>0</td>\n",
       "      <td>0</td>\n",
       "      <td>0</td>\n",
       "      <td>0</td>\n",
       "      <td>...</td>\n",
       "      <td>179</td>\n",
       "      <td>1</td>\n",
       "      <td>0</td>\n",
       "      <td>0.02</td>\n",
       "      <td>0.03</td>\n",
       "      <td>0.00</td>\n",
       "      <td>0.00</td>\n",
       "      <td>0.00</td>\n",
       "      <td>0</td>\n",
       "      <td>normal.</td>\n",
       "    </tr>\n",
       "    <tr>\n",
       "      <th>18</th>\n",
       "      <td>0</td>\n",
       "      <td>tcp</td>\n",
       "      <td>http</td>\n",
       "      <td>SF</td>\n",
       "      <td>233</td>\n",
       "      <td>255</td>\n",
       "      <td>0</td>\n",
       "      <td>0</td>\n",
       "      <td>0</td>\n",
       "      <td>0</td>\n",
       "      <td>...</td>\n",
       "      <td>189</td>\n",
       "      <td>1</td>\n",
       "      <td>0</td>\n",
       "      <td>0.02</td>\n",
       "      <td>0.03</td>\n",
       "      <td>0.00</td>\n",
       "      <td>0.00</td>\n",
       "      <td>0.00</td>\n",
       "      <td>0</td>\n",
       "      <td>normal.</td>\n",
       "    </tr>\n",
       "    <tr>\n",
       "      <th>19</th>\n",
       "      <td>0</td>\n",
       "      <td>tcp</td>\n",
       "      <td>http</td>\n",
       "      <td>SF</td>\n",
       "      <td>233</td>\n",
       "      <td>504</td>\n",
       "      <td>0</td>\n",
       "      <td>0</td>\n",
       "      <td>0</td>\n",
       "      <td>0</td>\n",
       "      <td>...</td>\n",
       "      <td>199</td>\n",
       "      <td>1</td>\n",
       "      <td>0</td>\n",
       "      <td>0.02</td>\n",
       "      <td>0.03</td>\n",
       "      <td>0.00</td>\n",
       "      <td>0.00</td>\n",
       "      <td>0.00</td>\n",
       "      <td>0</td>\n",
       "      <td>normal.</td>\n",
       "    </tr>\n",
       "    <tr>\n",
       "      <th>20</th>\n",
       "      <td>0</td>\n",
       "      <td>tcp</td>\n",
       "      <td>http</td>\n",
       "      <td>SF</td>\n",
       "      <td>256</td>\n",
       "      <td>1273</td>\n",
       "      <td>0</td>\n",
       "      <td>0</td>\n",
       "      <td>0</td>\n",
       "      <td>0</td>\n",
       "      <td>...</td>\n",
       "      <td>209</td>\n",
       "      <td>1</td>\n",
       "      <td>0</td>\n",
       "      <td>0.01</td>\n",
       "      <td>0.03</td>\n",
       "      <td>0.00</td>\n",
       "      <td>0.00</td>\n",
       "      <td>0.00</td>\n",
       "      <td>0</td>\n",
       "      <td>normal.</td>\n",
       "    </tr>\n",
       "    <tr>\n",
       "      <th>21</th>\n",
       "      <td>0</td>\n",
       "      <td>tcp</td>\n",
       "      <td>http</td>\n",
       "      <td>SF</td>\n",
       "      <td>234</td>\n",
       "      <td>255</td>\n",
       "      <td>0</td>\n",
       "      <td>0</td>\n",
       "      <td>0</td>\n",
       "      <td>0</td>\n",
       "      <td>...</td>\n",
       "      <td>219</td>\n",
       "      <td>1</td>\n",
       "      <td>0</td>\n",
       "      <td>0.01</td>\n",
       "      <td>0.03</td>\n",
       "      <td>0.00</td>\n",
       "      <td>0.00</td>\n",
       "      <td>0.00</td>\n",
       "      <td>0</td>\n",
       "      <td>normal.</td>\n",
       "    </tr>\n",
       "    <tr>\n",
       "      <th>22</th>\n",
       "      <td>0</td>\n",
       "      <td>tcp</td>\n",
       "      <td>http</td>\n",
       "      <td>SF</td>\n",
       "      <td>241</td>\n",
       "      <td>259</td>\n",
       "      <td>0</td>\n",
       "      <td>0</td>\n",
       "      <td>0</td>\n",
       "      <td>0</td>\n",
       "      <td>...</td>\n",
       "      <td>229</td>\n",
       "      <td>1</td>\n",
       "      <td>0</td>\n",
       "      <td>0.01</td>\n",
       "      <td>0.03</td>\n",
       "      <td>0.00</td>\n",
       "      <td>0.00</td>\n",
       "      <td>0.00</td>\n",
       "      <td>0</td>\n",
       "      <td>normal.</td>\n",
       "    </tr>\n",
       "    <tr>\n",
       "      <th>23</th>\n",
       "      <td>0</td>\n",
       "      <td>tcp</td>\n",
       "      <td>http</td>\n",
       "      <td>SF</td>\n",
       "      <td>239</td>\n",
       "      <td>968</td>\n",
       "      <td>0</td>\n",
       "      <td>0</td>\n",
       "      <td>0</td>\n",
       "      <td>0</td>\n",
       "      <td>...</td>\n",
       "      <td>239</td>\n",
       "      <td>1</td>\n",
       "      <td>0</td>\n",
       "      <td>0.33</td>\n",
       "      <td>0.03</td>\n",
       "      <td>0.00</td>\n",
       "      <td>0.00</td>\n",
       "      <td>0.00</td>\n",
       "      <td>0</td>\n",
       "      <td>normal.</td>\n",
       "    </tr>\n",
       "    <tr>\n",
       "      <th>24</th>\n",
       "      <td>0</td>\n",
       "      <td>tcp</td>\n",
       "      <td>http</td>\n",
       "      <td>SF</td>\n",
       "      <td>245</td>\n",
       "      <td>1919</td>\n",
       "      <td>0</td>\n",
       "      <td>0</td>\n",
       "      <td>0</td>\n",
       "      <td>0</td>\n",
       "      <td>...</td>\n",
       "      <td>249</td>\n",
       "      <td>1</td>\n",
       "      <td>0</td>\n",
       "      <td>0.08</td>\n",
       "      <td>0.03</td>\n",
       "      <td>0.00</td>\n",
       "      <td>0.00</td>\n",
       "      <td>0.00</td>\n",
       "      <td>0</td>\n",
       "      <td>normal.</td>\n",
       "    </tr>\n",
       "    <tr>\n",
       "      <th>25</th>\n",
       "      <td>0</td>\n",
       "      <td>tcp</td>\n",
       "      <td>http</td>\n",
       "      <td>SF</td>\n",
       "      <td>248</td>\n",
       "      <td>2129</td>\n",
       "      <td>0</td>\n",
       "      <td>0</td>\n",
       "      <td>0</td>\n",
       "      <td>0</td>\n",
       "      <td>...</td>\n",
       "      <td>255</td>\n",
       "      <td>1</td>\n",
       "      <td>0</td>\n",
       "      <td>0.04</td>\n",
       "      <td>0.03</td>\n",
       "      <td>0.00</td>\n",
       "      <td>0.00</td>\n",
       "      <td>0.00</td>\n",
       "      <td>0</td>\n",
       "      <td>normal.</td>\n",
       "    </tr>\n",
       "    <tr>\n",
       "      <th>26</th>\n",
       "      <td>0</td>\n",
       "      <td>tcp</td>\n",
       "      <td>http</td>\n",
       "      <td>SF</td>\n",
       "      <td>354</td>\n",
       "      <td>1752</td>\n",
       "      <td>0</td>\n",
       "      <td>0</td>\n",
       "      <td>0</td>\n",
       "      <td>0</td>\n",
       "      <td>...</td>\n",
       "      <td>255</td>\n",
       "      <td>1</td>\n",
       "      <td>0</td>\n",
       "      <td>0.20</td>\n",
       "      <td>0.04</td>\n",
       "      <td>0.00</td>\n",
       "      <td>0.00</td>\n",
       "      <td>0.00</td>\n",
       "      <td>0</td>\n",
       "      <td>normal.</td>\n",
       "    </tr>\n",
       "    <tr>\n",
       "      <th>27</th>\n",
       "      <td>0</td>\n",
       "      <td>tcp</td>\n",
       "      <td>http</td>\n",
       "      <td>SF</td>\n",
       "      <td>193</td>\n",
       "      <td>3991</td>\n",
       "      <td>0</td>\n",
       "      <td>0</td>\n",
       "      <td>0</td>\n",
       "      <td>0</td>\n",
       "      <td>...</td>\n",
       "      <td>255</td>\n",
       "      <td>1</td>\n",
       "      <td>0</td>\n",
       "      <td>1.00</td>\n",
       "      <td>0.05</td>\n",
       "      <td>0.00</td>\n",
       "      <td>0.00</td>\n",
       "      <td>0.00</td>\n",
       "      <td>0</td>\n",
       "      <td>normal.</td>\n",
       "    </tr>\n",
       "    <tr>\n",
       "      <th>28</th>\n",
       "      <td>0</td>\n",
       "      <td>tcp</td>\n",
       "      <td>http</td>\n",
       "      <td>SF</td>\n",
       "      <td>214</td>\n",
       "      <td>14959</td>\n",
       "      <td>0</td>\n",
       "      <td>0</td>\n",
       "      <td>0</td>\n",
       "      <td>0</td>\n",
       "      <td>...</td>\n",
       "      <td>255</td>\n",
       "      <td>1</td>\n",
       "      <td>0</td>\n",
       "      <td>0.09</td>\n",
       "      <td>0.05</td>\n",
       "      <td>0.00</td>\n",
       "      <td>0.00</td>\n",
       "      <td>0.00</td>\n",
       "      <td>0</td>\n",
       "      <td>normal.</td>\n",
       "    </tr>\n",
       "    <tr>\n",
       "      <th>29</th>\n",
       "      <td>0</td>\n",
       "      <td>tcp</td>\n",
       "      <td>http</td>\n",
       "      <td>SF</td>\n",
       "      <td>212</td>\n",
       "      <td>1309</td>\n",
       "      <td>0</td>\n",
       "      <td>0</td>\n",
       "      <td>0</td>\n",
       "      <td>0</td>\n",
       "      <td>...</td>\n",
       "      <td>255</td>\n",
       "      <td>1</td>\n",
       "      <td>0</td>\n",
       "      <td>0.05</td>\n",
       "      <td>0.05</td>\n",
       "      <td>0.00</td>\n",
       "      <td>0.00</td>\n",
       "      <td>0.00</td>\n",
       "      <td>0</td>\n",
       "      <td>normal.</td>\n",
       "    </tr>\n",
       "    <tr>\n",
       "      <th>...</th>\n",
       "      <td>...</td>\n",
       "      <td>...</td>\n",
       "      <td>...</td>\n",
       "      <td>...</td>\n",
       "      <td>...</td>\n",
       "      <td>...</td>\n",
       "      <td>...</td>\n",
       "      <td>...</td>\n",
       "      <td>...</td>\n",
       "      <td>...</td>\n",
       "      <td>...</td>\n",
       "      <td>...</td>\n",
       "      <td>...</td>\n",
       "      <td>...</td>\n",
       "      <td>...</td>\n",
       "      <td>...</td>\n",
       "      <td>...</td>\n",
       "      <td>...</td>\n",
       "      <td>...</td>\n",
       "      <td>...</td>\n",
       "      <td>...</td>\n",
       "    </tr>\n",
       "    <tr>\n",
       "      <th>493991</th>\n",
       "      <td>0</td>\n",
       "      <td>tcp</td>\n",
       "      <td>http</td>\n",
       "      <td>SF</td>\n",
       "      <td>296</td>\n",
       "      <td>617</td>\n",
       "      <td>0</td>\n",
       "      <td>0</td>\n",
       "      <td>0</td>\n",
       "      <td>0</td>\n",
       "      <td>...</td>\n",
       "      <td>255</td>\n",
       "      <td>1</td>\n",
       "      <td>0</td>\n",
       "      <td>0.04</td>\n",
       "      <td>0.10</td>\n",
       "      <td>0.00</td>\n",
       "      <td>0.00</td>\n",
       "      <td>0.00</td>\n",
       "      <td>0</td>\n",
       "      <td>normal.</td>\n",
       "    </tr>\n",
       "    <tr>\n",
       "      <th>493992</th>\n",
       "      <td>0</td>\n",
       "      <td>tcp</td>\n",
       "      <td>http</td>\n",
       "      <td>SF</td>\n",
       "      <td>294</td>\n",
       "      <td>29288</td>\n",
       "      <td>0</td>\n",
       "      <td>0</td>\n",
       "      <td>0</td>\n",
       "      <td>0</td>\n",
       "      <td>...</td>\n",
       "      <td>255</td>\n",
       "      <td>1</td>\n",
       "      <td>0</td>\n",
       "      <td>0.03</td>\n",
       "      <td>0.10</td>\n",
       "      <td>0.00</td>\n",
       "      <td>0.00</td>\n",
       "      <td>0.00</td>\n",
       "      <td>0</td>\n",
       "      <td>normal.</td>\n",
       "    </tr>\n",
       "    <tr>\n",
       "      <th>493993</th>\n",
       "      <td>0</td>\n",
       "      <td>tcp</td>\n",
       "      <td>http</td>\n",
       "      <td>SF</td>\n",
       "      <td>285</td>\n",
       "      <td>34557</td>\n",
       "      <td>0</td>\n",
       "      <td>0</td>\n",
       "      <td>0</td>\n",
       "      <td>0</td>\n",
       "      <td>...</td>\n",
       "      <td>255</td>\n",
       "      <td>1</td>\n",
       "      <td>0</td>\n",
       "      <td>0.14</td>\n",
       "      <td>0.10</td>\n",
       "      <td>0.00</td>\n",
       "      <td>0.00</td>\n",
       "      <td>0.00</td>\n",
       "      <td>0</td>\n",
       "      <td>normal.</td>\n",
       "    </tr>\n",
       "    <tr>\n",
       "      <th>493994</th>\n",
       "      <td>0</td>\n",
       "      <td>tcp</td>\n",
       "      <td>http</td>\n",
       "      <td>SF</td>\n",
       "      <td>316</td>\n",
       "      <td>3665</td>\n",
       "      <td>0</td>\n",
       "      <td>0</td>\n",
       "      <td>0</td>\n",
       "      <td>0</td>\n",
       "      <td>...</td>\n",
       "      <td>255</td>\n",
       "      <td>1</td>\n",
       "      <td>0</td>\n",
       "      <td>0.06</td>\n",
       "      <td>0.09</td>\n",
       "      <td>0.00</td>\n",
       "      <td>0.00</td>\n",
       "      <td>0.00</td>\n",
       "      <td>0</td>\n",
       "      <td>normal.</td>\n",
       "    </tr>\n",
       "    <tr>\n",
       "      <th>493995</th>\n",
       "      <td>0</td>\n",
       "      <td>tcp</td>\n",
       "      <td>http</td>\n",
       "      <td>SF</td>\n",
       "      <td>335</td>\n",
       "      <td>10440</td>\n",
       "      <td>0</td>\n",
       "      <td>0</td>\n",
       "      <td>0</td>\n",
       "      <td>0</td>\n",
       "      <td>...</td>\n",
       "      <td>255</td>\n",
       "      <td>1</td>\n",
       "      <td>0</td>\n",
       "      <td>0.04</td>\n",
       "      <td>0.08</td>\n",
       "      <td>0.00</td>\n",
       "      <td>0.00</td>\n",
       "      <td>0.00</td>\n",
       "      <td>0</td>\n",
       "      <td>normal.</td>\n",
       "    </tr>\n",
       "    <tr>\n",
       "      <th>493996</th>\n",
       "      <td>0</td>\n",
       "      <td>tcp</td>\n",
       "      <td>http</td>\n",
       "      <td>SF</td>\n",
       "      <td>284</td>\n",
       "      <td>10592</td>\n",
       "      <td>0</td>\n",
       "      <td>0</td>\n",
       "      <td>0</td>\n",
       "      <td>0</td>\n",
       "      <td>...</td>\n",
       "      <td>255</td>\n",
       "      <td>1</td>\n",
       "      <td>0</td>\n",
       "      <td>0.03</td>\n",
       "      <td>0.07</td>\n",
       "      <td>0.00</td>\n",
       "      <td>0.00</td>\n",
       "      <td>0.00</td>\n",
       "      <td>0</td>\n",
       "      <td>normal.</td>\n",
       "    </tr>\n",
       "    <tr>\n",
       "      <th>493997</th>\n",
       "      <td>0</td>\n",
       "      <td>tcp</td>\n",
       "      <td>http</td>\n",
       "      <td>SF</td>\n",
       "      <td>242</td>\n",
       "      <td>7066</td>\n",
       "      <td>0</td>\n",
       "      <td>0</td>\n",
       "      <td>0</td>\n",
       "      <td>0</td>\n",
       "      <td>...</td>\n",
       "      <td>255</td>\n",
       "      <td>1</td>\n",
       "      <td>0</td>\n",
       "      <td>0.02</td>\n",
       "      <td>0.05</td>\n",
       "      <td>0.00</td>\n",
       "      <td>0.00</td>\n",
       "      <td>0.00</td>\n",
       "      <td>0</td>\n",
       "      <td>normal.</td>\n",
       "    </tr>\n",
       "    <tr>\n",
       "      <th>493998</th>\n",
       "      <td>0</td>\n",
       "      <td>tcp</td>\n",
       "      <td>http</td>\n",
       "      <td>SF</td>\n",
       "      <td>223</td>\n",
       "      <td>3707</td>\n",
       "      <td>0</td>\n",
       "      <td>0</td>\n",
       "      <td>0</td>\n",
       "      <td>0</td>\n",
       "      <td>...</td>\n",
       "      <td>255</td>\n",
       "      <td>1</td>\n",
       "      <td>0</td>\n",
       "      <td>0.11</td>\n",
       "      <td>0.05</td>\n",
       "      <td>0.00</td>\n",
       "      <td>0.00</td>\n",
       "      <td>0.00</td>\n",
       "      <td>0</td>\n",
       "      <td>normal.</td>\n",
       "    </tr>\n",
       "    <tr>\n",
       "      <th>493999</th>\n",
       "      <td>0</td>\n",
       "      <td>tcp</td>\n",
       "      <td>http</td>\n",
       "      <td>SF</td>\n",
       "      <td>204</td>\n",
       "      <td>1731</td>\n",
       "      <td>0</td>\n",
       "      <td>0</td>\n",
       "      <td>0</td>\n",
       "      <td>0</td>\n",
       "      <td>...</td>\n",
       "      <td>255</td>\n",
       "      <td>1</td>\n",
       "      <td>0</td>\n",
       "      <td>0.05</td>\n",
       "      <td>0.04</td>\n",
       "      <td>0.00</td>\n",
       "      <td>0.00</td>\n",
       "      <td>0.00</td>\n",
       "      <td>0</td>\n",
       "      <td>normal.</td>\n",
       "    </tr>\n",
       "    <tr>\n",
       "      <th>494000</th>\n",
       "      <td>0</td>\n",
       "      <td>tcp</td>\n",
       "      <td>http</td>\n",
       "      <td>SF</td>\n",
       "      <td>148</td>\n",
       "      <td>1122</td>\n",
       "      <td>0</td>\n",
       "      <td>0</td>\n",
       "      <td>0</td>\n",
       "      <td>0</td>\n",
       "      <td>...</td>\n",
       "      <td>255</td>\n",
       "      <td>1</td>\n",
       "      <td>0</td>\n",
       "      <td>0.33</td>\n",
       "      <td>0.04</td>\n",
       "      <td>0.00</td>\n",
       "      <td>0.00</td>\n",
       "      <td>0.00</td>\n",
       "      <td>0</td>\n",
       "      <td>normal.</td>\n",
       "    </tr>\n",
       "    <tr>\n",
       "      <th>494001</th>\n",
       "      <td>0</td>\n",
       "      <td>tcp</td>\n",
       "      <td>http</td>\n",
       "      <td>S0</td>\n",
       "      <td>0</td>\n",
       "      <td>0</td>\n",
       "      <td>0</td>\n",
       "      <td>0</td>\n",
       "      <td>0</td>\n",
       "      <td>0</td>\n",
       "      <td>...</td>\n",
       "      <td>255</td>\n",
       "      <td>1</td>\n",
       "      <td>0</td>\n",
       "      <td>0.15</td>\n",
       "      <td>0.04</td>\n",
       "      <td>0.08</td>\n",
       "      <td>0.00</td>\n",
       "      <td>0.08</td>\n",
       "      <td>0</td>\n",
       "      <td>normal.</td>\n",
       "    </tr>\n",
       "    <tr>\n",
       "      <th>494002</th>\n",
       "      <td>0</td>\n",
       "      <td>tcp</td>\n",
       "      <td>http</td>\n",
       "      <td>SF</td>\n",
       "      <td>215</td>\n",
       "      <td>2649</td>\n",
       "      <td>0</td>\n",
       "      <td>0</td>\n",
       "      <td>0</td>\n",
       "      <td>0</td>\n",
       "      <td>...</td>\n",
       "      <td>255</td>\n",
       "      <td>1</td>\n",
       "      <td>0</td>\n",
       "      <td>0.04</td>\n",
       "      <td>0.04</td>\n",
       "      <td>0.04</td>\n",
       "      <td>0.00</td>\n",
       "      <td>0.04</td>\n",
       "      <td>0</td>\n",
       "      <td>normal.</td>\n",
       "    </tr>\n",
       "    <tr>\n",
       "      <th>494003</th>\n",
       "      <td>0</td>\n",
       "      <td>tcp</td>\n",
       "      <td>http</td>\n",
       "      <td>SF</td>\n",
       "      <td>341</td>\n",
       "      <td>326</td>\n",
       "      <td>0</td>\n",
       "      <td>0</td>\n",
       "      <td>0</td>\n",
       "      <td>0</td>\n",
       "      <td>...</td>\n",
       "      <td>255</td>\n",
       "      <td>1</td>\n",
       "      <td>0</td>\n",
       "      <td>1.00</td>\n",
       "      <td>0.05</td>\n",
       "      <td>0.00</td>\n",
       "      <td>0.01</td>\n",
       "      <td>0.00</td>\n",
       "      <td>0</td>\n",
       "      <td>normal.</td>\n",
       "    </tr>\n",
       "    <tr>\n",
       "      <th>494004</th>\n",
       "      <td>0</td>\n",
       "      <td>tcp</td>\n",
       "      <td>http</td>\n",
       "      <td>SF</td>\n",
       "      <td>341</td>\n",
       "      <td>1943</td>\n",
       "      <td>0</td>\n",
       "      <td>0</td>\n",
       "      <td>0</td>\n",
       "      <td>0</td>\n",
       "      <td>...</td>\n",
       "      <td>255</td>\n",
       "      <td>1</td>\n",
       "      <td>0</td>\n",
       "      <td>0.09</td>\n",
       "      <td>0.05</td>\n",
       "      <td>0.00</td>\n",
       "      <td>0.01</td>\n",
       "      <td>0.00</td>\n",
       "      <td>0</td>\n",
       "      <td>normal.</td>\n",
       "    </tr>\n",
       "    <tr>\n",
       "      <th>494005</th>\n",
       "      <td>0</td>\n",
       "      <td>tcp</td>\n",
       "      <td>http</td>\n",
       "      <td>SF</td>\n",
       "      <td>341</td>\n",
       "      <td>1663</td>\n",
       "      <td>0</td>\n",
       "      <td>0</td>\n",
       "      <td>0</td>\n",
       "      <td>0</td>\n",
       "      <td>...</td>\n",
       "      <td>255</td>\n",
       "      <td>1</td>\n",
       "      <td>0</td>\n",
       "      <td>0.05</td>\n",
       "      <td>0.05</td>\n",
       "      <td>0.00</td>\n",
       "      <td>0.01</td>\n",
       "      <td>0.00</td>\n",
       "      <td>0</td>\n",
       "      <td>normal.</td>\n",
       "    </tr>\n",
       "    <tr>\n",
       "      <th>494006</th>\n",
       "      <td>0</td>\n",
       "      <td>tcp</td>\n",
       "      <td>http</td>\n",
       "      <td>SF</td>\n",
       "      <td>235</td>\n",
       "      <td>501</td>\n",
       "      <td>0</td>\n",
       "      <td>0</td>\n",
       "      <td>0</td>\n",
       "      <td>0</td>\n",
       "      <td>...</td>\n",
       "      <td>255</td>\n",
       "      <td>1</td>\n",
       "      <td>0</td>\n",
       "      <td>0.50</td>\n",
       "      <td>0.05</td>\n",
       "      <td>0.00</td>\n",
       "      <td>0.01</td>\n",
       "      <td>0.00</td>\n",
       "      <td>0</td>\n",
       "      <td>normal.</td>\n",
       "    </tr>\n",
       "    <tr>\n",
       "      <th>494007</th>\n",
       "      <td>0</td>\n",
       "      <td>tcp</td>\n",
       "      <td>http</td>\n",
       "      <td>SF</td>\n",
       "      <td>320</td>\n",
       "      <td>13828</td>\n",
       "      <td>0</td>\n",
       "      <td>0</td>\n",
       "      <td>0</td>\n",
       "      <td>0</td>\n",
       "      <td>...</td>\n",
       "      <td>255</td>\n",
       "      <td>1</td>\n",
       "      <td>0</td>\n",
       "      <td>0.10</td>\n",
       "      <td>0.05</td>\n",
       "      <td>0.00</td>\n",
       "      <td>0.01</td>\n",
       "      <td>0.00</td>\n",
       "      <td>0</td>\n",
       "      <td>normal.</td>\n",
       "    </tr>\n",
       "    <tr>\n",
       "      <th>494008</th>\n",
       "      <td>0</td>\n",
       "      <td>tcp</td>\n",
       "      <td>http</td>\n",
       "      <td>SF</td>\n",
       "      <td>319</td>\n",
       "      <td>1435</td>\n",
       "      <td>0</td>\n",
       "      <td>0</td>\n",
       "      <td>0</td>\n",
       "      <td>0</td>\n",
       "      <td>...</td>\n",
       "      <td>255</td>\n",
       "      <td>1</td>\n",
       "      <td>0</td>\n",
       "      <td>0.17</td>\n",
       "      <td>0.07</td>\n",
       "      <td>0.00</td>\n",
       "      <td>0.01</td>\n",
       "      <td>0.00</td>\n",
       "      <td>0</td>\n",
       "      <td>normal.</td>\n",
       "    </tr>\n",
       "    <tr>\n",
       "      <th>494009</th>\n",
       "      <td>0</td>\n",
       "      <td>tcp</td>\n",
       "      <td>http</td>\n",
       "      <td>SF</td>\n",
       "      <td>335</td>\n",
       "      <td>3435</td>\n",
       "      <td>0</td>\n",
       "      <td>0</td>\n",
       "      <td>0</td>\n",
       "      <td>0</td>\n",
       "      <td>...</td>\n",
       "      <td>255</td>\n",
       "      <td>1</td>\n",
       "      <td>0</td>\n",
       "      <td>0.06</td>\n",
       "      <td>0.07</td>\n",
       "      <td>0.00</td>\n",
       "      <td>0.01</td>\n",
       "      <td>0.00</td>\n",
       "      <td>0</td>\n",
       "      <td>normal.</td>\n",
       "    </tr>\n",
       "    <tr>\n",
       "      <th>494010</th>\n",
       "      <td>0</td>\n",
       "      <td>tcp</td>\n",
       "      <td>http</td>\n",
       "      <td>SF</td>\n",
       "      <td>291</td>\n",
       "      <td>236</td>\n",
       "      <td>0</td>\n",
       "      <td>0</td>\n",
       "      <td>0</td>\n",
       "      <td>0</td>\n",
       "      <td>...</td>\n",
       "      <td>255</td>\n",
       "      <td>1</td>\n",
       "      <td>0</td>\n",
       "      <td>0.04</td>\n",
       "      <td>0.06</td>\n",
       "      <td>0.00</td>\n",
       "      <td>0.01</td>\n",
       "      <td>0.00</td>\n",
       "      <td>0</td>\n",
       "      <td>normal.</td>\n",
       "    </tr>\n",
       "    <tr>\n",
       "      <th>494011</th>\n",
       "      <td>0</td>\n",
       "      <td>tcp</td>\n",
       "      <td>http</td>\n",
       "      <td>SF</td>\n",
       "      <td>308</td>\n",
       "      <td>662</td>\n",
       "      <td>0</td>\n",
       "      <td>0</td>\n",
       "      <td>0</td>\n",
       "      <td>0</td>\n",
       "      <td>...</td>\n",
       "      <td>255</td>\n",
       "      <td>1</td>\n",
       "      <td>0</td>\n",
       "      <td>0.03</td>\n",
       "      <td>0.06</td>\n",
       "      <td>0.00</td>\n",
       "      <td>0.01</td>\n",
       "      <td>0.00</td>\n",
       "      <td>0</td>\n",
       "      <td>normal.</td>\n",
       "    </tr>\n",
       "    <tr>\n",
       "      <th>494012</th>\n",
       "      <td>0</td>\n",
       "      <td>tcp</td>\n",
       "      <td>http</td>\n",
       "      <td>SF</td>\n",
       "      <td>291</td>\n",
       "      <td>1862</td>\n",
       "      <td>0</td>\n",
       "      <td>0</td>\n",
       "      <td>0</td>\n",
       "      <td>0</td>\n",
       "      <td>...</td>\n",
       "      <td>255</td>\n",
       "      <td>1</td>\n",
       "      <td>0</td>\n",
       "      <td>0.02</td>\n",
       "      <td>0.05</td>\n",
       "      <td>0.00</td>\n",
       "      <td>0.01</td>\n",
       "      <td>0.00</td>\n",
       "      <td>0</td>\n",
       "      <td>normal.</td>\n",
       "    </tr>\n",
       "    <tr>\n",
       "      <th>494013</th>\n",
       "      <td>0</td>\n",
       "      <td>tcp</td>\n",
       "      <td>http</td>\n",
       "      <td>SF</td>\n",
       "      <td>289</td>\n",
       "      <td>244</td>\n",
       "      <td>0</td>\n",
       "      <td>0</td>\n",
       "      <td>0</td>\n",
       "      <td>0</td>\n",
       "      <td>...</td>\n",
       "      <td>255</td>\n",
       "      <td>1</td>\n",
       "      <td>0</td>\n",
       "      <td>0.02</td>\n",
       "      <td>0.05</td>\n",
       "      <td>0.00</td>\n",
       "      <td>0.01</td>\n",
       "      <td>0.00</td>\n",
       "      <td>0</td>\n",
       "      <td>normal.</td>\n",
       "    </tr>\n",
       "    <tr>\n",
       "      <th>494014</th>\n",
       "      <td>0</td>\n",
       "      <td>tcp</td>\n",
       "      <td>http</td>\n",
       "      <td>SF</td>\n",
       "      <td>306</td>\n",
       "      <td>662</td>\n",
       "      <td>0</td>\n",
       "      <td>0</td>\n",
       "      <td>0</td>\n",
       "      <td>0</td>\n",
       "      <td>...</td>\n",
       "      <td>255</td>\n",
       "      <td>1</td>\n",
       "      <td>0</td>\n",
       "      <td>0.02</td>\n",
       "      <td>0.05</td>\n",
       "      <td>0.00</td>\n",
       "      <td>0.01</td>\n",
       "      <td>0.00</td>\n",
       "      <td>0</td>\n",
       "      <td>normal.</td>\n",
       "    </tr>\n",
       "    <tr>\n",
       "      <th>494015</th>\n",
       "      <td>0</td>\n",
       "      <td>tcp</td>\n",
       "      <td>http</td>\n",
       "      <td>SF</td>\n",
       "      <td>289</td>\n",
       "      <td>1862</td>\n",
       "      <td>0</td>\n",
       "      <td>0</td>\n",
       "      <td>0</td>\n",
       "      <td>0</td>\n",
       "      <td>...</td>\n",
       "      <td>255</td>\n",
       "      <td>1</td>\n",
       "      <td>0</td>\n",
       "      <td>0.01</td>\n",
       "      <td>0.05</td>\n",
       "      <td>0.00</td>\n",
       "      <td>0.01</td>\n",
       "      <td>0.00</td>\n",
       "      <td>0</td>\n",
       "      <td>normal.</td>\n",
       "    </tr>\n",
       "    <tr>\n",
       "      <th>494016</th>\n",
       "      <td>0</td>\n",
       "      <td>tcp</td>\n",
       "      <td>http</td>\n",
       "      <td>SF</td>\n",
       "      <td>310</td>\n",
       "      <td>1881</td>\n",
       "      <td>0</td>\n",
       "      <td>0</td>\n",
       "      <td>0</td>\n",
       "      <td>0</td>\n",
       "      <td>...</td>\n",
       "      <td>255</td>\n",
       "      <td>1</td>\n",
       "      <td>0</td>\n",
       "      <td>0.01</td>\n",
       "      <td>0.05</td>\n",
       "      <td>0.00</td>\n",
       "      <td>0.01</td>\n",
       "      <td>0.00</td>\n",
       "      <td>0</td>\n",
       "      <td>normal.</td>\n",
       "    </tr>\n",
       "    <tr>\n",
       "      <th>494017</th>\n",
       "      <td>0</td>\n",
       "      <td>tcp</td>\n",
       "      <td>http</td>\n",
       "      <td>SF</td>\n",
       "      <td>282</td>\n",
       "      <td>2286</td>\n",
       "      <td>0</td>\n",
       "      <td>0</td>\n",
       "      <td>0</td>\n",
       "      <td>0</td>\n",
       "      <td>...</td>\n",
       "      <td>255</td>\n",
       "      <td>1</td>\n",
       "      <td>0</td>\n",
       "      <td>0.17</td>\n",
       "      <td>0.05</td>\n",
       "      <td>0.00</td>\n",
       "      <td>0.01</td>\n",
       "      <td>0.00</td>\n",
       "      <td>0</td>\n",
       "      <td>normal.</td>\n",
       "    </tr>\n",
       "    <tr>\n",
       "      <th>494018</th>\n",
       "      <td>0</td>\n",
       "      <td>tcp</td>\n",
       "      <td>http</td>\n",
       "      <td>SF</td>\n",
       "      <td>203</td>\n",
       "      <td>1200</td>\n",
       "      <td>0</td>\n",
       "      <td>0</td>\n",
       "      <td>0</td>\n",
       "      <td>0</td>\n",
       "      <td>...</td>\n",
       "      <td>255</td>\n",
       "      <td>1</td>\n",
       "      <td>0</td>\n",
       "      <td>0.06</td>\n",
       "      <td>0.05</td>\n",
       "      <td>0.06</td>\n",
       "      <td>0.01</td>\n",
       "      <td>0.00</td>\n",
       "      <td>0</td>\n",
       "      <td>normal.</td>\n",
       "    </tr>\n",
       "    <tr>\n",
       "      <th>494019</th>\n",
       "      <td>0</td>\n",
       "      <td>tcp</td>\n",
       "      <td>http</td>\n",
       "      <td>SF</td>\n",
       "      <td>291</td>\n",
       "      <td>1200</td>\n",
       "      <td>0</td>\n",
       "      <td>0</td>\n",
       "      <td>0</td>\n",
       "      <td>0</td>\n",
       "      <td>...</td>\n",
       "      <td>255</td>\n",
       "      <td>1</td>\n",
       "      <td>0</td>\n",
       "      <td>0.04</td>\n",
       "      <td>0.05</td>\n",
       "      <td>0.04</td>\n",
       "      <td>0.01</td>\n",
       "      <td>0.00</td>\n",
       "      <td>0</td>\n",
       "      <td>normal.</td>\n",
       "    </tr>\n",
       "    <tr>\n",
       "      <th>494020</th>\n",
       "      <td>0</td>\n",
       "      <td>tcp</td>\n",
       "      <td>http</td>\n",
       "      <td>SF</td>\n",
       "      <td>219</td>\n",
       "      <td>1234</td>\n",
       "      <td>0</td>\n",
       "      <td>0</td>\n",
       "      <td>0</td>\n",
       "      <td>0</td>\n",
       "      <td>...</td>\n",
       "      <td>255</td>\n",
       "      <td>1</td>\n",
       "      <td>0</td>\n",
       "      <td>0.17</td>\n",
       "      <td>0.05</td>\n",
       "      <td>0.00</td>\n",
       "      <td>0.01</td>\n",
       "      <td>0.00</td>\n",
       "      <td>0</td>\n",
       "      <td>normal.</td>\n",
       "    </tr>\n",
       "  </tbody>\n",
       "</table>\n",
       "<p>494021 rows × 42 columns</p>\n",
       "</div>"
      ],
      "text/plain": [
       "        duration protocol_type service flag  src_bytes  dst_bytes  land  \\\n",
       "0              0           tcp    http   SF        181       5450     0   \n",
       "1              0           tcp    http   SF        239        486     0   \n",
       "2              0           tcp    http   SF        235       1337     0   \n",
       "3              0           tcp    http   SF        219       1337     0   \n",
       "4              0           tcp    http   SF        217       2032     0   \n",
       "5              0           tcp    http   SF        217       2032     0   \n",
       "6              0           tcp    http   SF        212       1940     0   \n",
       "7              0           tcp    http   SF        159       4087     0   \n",
       "8              0           tcp    http   SF        210        151     0   \n",
       "9              0           tcp    http   SF        212        786     0   \n",
       "10             0           tcp    http   SF        210        624     0   \n",
       "11             0           tcp    http   SF        177       1985     0   \n",
       "12             0           tcp    http   SF        222        773     0   \n",
       "13             0           tcp    http   SF        256       1169     0   \n",
       "14             0           tcp    http   SF        241        259     0   \n",
       "15             0           tcp    http   SF        260       1837     0   \n",
       "16             0           tcp    http   SF        241        261     0   \n",
       "17             0           tcp    http   SF        257        818     0   \n",
       "18             0           tcp    http   SF        233        255     0   \n",
       "19             0           tcp    http   SF        233        504     0   \n",
       "20             0           tcp    http   SF        256       1273     0   \n",
       "21             0           tcp    http   SF        234        255     0   \n",
       "22             0           tcp    http   SF        241        259     0   \n",
       "23             0           tcp    http   SF        239        968     0   \n",
       "24             0           tcp    http   SF        245       1919     0   \n",
       "25             0           tcp    http   SF        248       2129     0   \n",
       "26             0           tcp    http   SF        354       1752     0   \n",
       "27             0           tcp    http   SF        193       3991     0   \n",
       "28             0           tcp    http   SF        214      14959     0   \n",
       "29             0           tcp    http   SF        212       1309     0   \n",
       "...          ...           ...     ...  ...        ...        ...   ...   \n",
       "493991         0           tcp    http   SF        296        617     0   \n",
       "493992         0           tcp    http   SF        294      29288     0   \n",
       "493993         0           tcp    http   SF        285      34557     0   \n",
       "493994         0           tcp    http   SF        316       3665     0   \n",
       "493995         0           tcp    http   SF        335      10440     0   \n",
       "493996         0           tcp    http   SF        284      10592     0   \n",
       "493997         0           tcp    http   SF        242       7066     0   \n",
       "493998         0           tcp    http   SF        223       3707     0   \n",
       "493999         0           tcp    http   SF        204       1731     0   \n",
       "494000         0           tcp    http   SF        148       1122     0   \n",
       "494001         0           tcp    http   S0          0          0     0   \n",
       "494002         0           tcp    http   SF        215       2649     0   \n",
       "494003         0           tcp    http   SF        341        326     0   \n",
       "494004         0           tcp    http   SF        341       1943     0   \n",
       "494005         0           tcp    http   SF        341       1663     0   \n",
       "494006         0           tcp    http   SF        235        501     0   \n",
       "494007         0           tcp    http   SF        320      13828     0   \n",
       "494008         0           tcp    http   SF        319       1435     0   \n",
       "494009         0           tcp    http   SF        335       3435     0   \n",
       "494010         0           tcp    http   SF        291        236     0   \n",
       "494011         0           tcp    http   SF        308        662     0   \n",
       "494012         0           tcp    http   SF        291       1862     0   \n",
       "494013         0           tcp    http   SF        289        244     0   \n",
       "494014         0           tcp    http   SF        306        662     0   \n",
       "494015         0           tcp    http   SF        289       1862     0   \n",
       "494016         0           tcp    http   SF        310       1881     0   \n",
       "494017         0           tcp    http   SF        282       2286     0   \n",
       "494018         0           tcp    http   SF        203       1200     0   \n",
       "494019         0           tcp    http   SF        291       1200     0   \n",
       "494020         0           tcp    http   SF        219       1234     0   \n",
       "\n",
       "        wrong_fragment  urgent  hot       ...        dst_host_srv_count  \\\n",
       "0                    0       0    0       ...                         9   \n",
       "1                    0       0    0       ...                        19   \n",
       "2                    0       0    0       ...                        29   \n",
       "3                    0       0    0       ...                        39   \n",
       "4                    0       0    0       ...                        49   \n",
       "5                    0       0    0       ...                        59   \n",
       "6                    0       0    0       ...                        69   \n",
       "7                    0       0    0       ...                        79   \n",
       "8                    0       0    0       ...                        89   \n",
       "9                    0       0    1       ...                        99   \n",
       "10                   0       0    0       ...                       109   \n",
       "11                   0       0    0       ...                       119   \n",
       "12                   0       0    0       ...                       129   \n",
       "13                   0       0    0       ...                       139   \n",
       "14                   0       0    0       ...                       149   \n",
       "15                   0       0    0       ...                       159   \n",
       "16                   0       0    0       ...                       169   \n",
       "17                   0       0    0       ...                       179   \n",
       "18                   0       0    0       ...                       189   \n",
       "19                   0       0    0       ...                       199   \n",
       "20                   0       0    0       ...                       209   \n",
       "21                   0       0    0       ...                       219   \n",
       "22                   0       0    0       ...                       229   \n",
       "23                   0       0    0       ...                       239   \n",
       "24                   0       0    0       ...                       249   \n",
       "25                   0       0    0       ...                       255   \n",
       "26                   0       0    0       ...                       255   \n",
       "27                   0       0    0       ...                       255   \n",
       "28                   0       0    0       ...                       255   \n",
       "29                   0       0    0       ...                       255   \n",
       "...                ...     ...  ...       ...                       ...   \n",
       "493991               0       0    0       ...                       255   \n",
       "493992               0       0    0       ...                       255   \n",
       "493993               0       0    0       ...                       255   \n",
       "493994               0       0    0       ...                       255   \n",
       "493995               0       0    0       ...                       255   \n",
       "493996               0       0    0       ...                       255   \n",
       "493997               0       0    0       ...                       255   \n",
       "493998               0       0    0       ...                       255   \n",
       "493999               0       0    0       ...                       255   \n",
       "494000               0       0    0       ...                       255   \n",
       "494001               0       0    0       ...                       255   \n",
       "494002               0       0    0       ...                       255   \n",
       "494003               0       0    0       ...                       255   \n",
       "494004               0       0    0       ...                       255   \n",
       "494005               0       0    0       ...                       255   \n",
       "494006               0       0    0       ...                       255   \n",
       "494007               0       0    0       ...                       255   \n",
       "494008               0       0    0       ...                       255   \n",
       "494009               0       0    0       ...                       255   \n",
       "494010               0       0    0       ...                       255   \n",
       "494011               0       0    0       ...                       255   \n",
       "494012               0       0    0       ...                       255   \n",
       "494013               0       0    0       ...                       255   \n",
       "494014               0       0    0       ...                       255   \n",
       "494015               0       0    0       ...                       255   \n",
       "494016               0       0    0       ...                       255   \n",
       "494017               0       0    0       ...                       255   \n",
       "494018               0       0    0       ...                       255   \n",
       "494019               0       0    0       ...                       255   \n",
       "494020               0       0    0       ...                       255   \n",
       "\n",
       "        dst_host_same_srv_rate  dst_host_diff_srv_rate  \\\n",
       "0                            1                       0   \n",
       "1                            1                       0   \n",
       "2                            1                       0   \n",
       "3                            1                       0   \n",
       "4                            1                       0   \n",
       "5                            1                       0   \n",
       "6                            1                       0   \n",
       "7                            1                       0   \n",
       "8                            1                       0   \n",
       "9                            1                       0   \n",
       "10                           1                       0   \n",
       "11                           1                       0   \n",
       "12                           1                       0   \n",
       "13                           1                       0   \n",
       "14                           1                       0   \n",
       "15                           1                       0   \n",
       "16                           1                       0   \n",
       "17                           1                       0   \n",
       "18                           1                       0   \n",
       "19                           1                       0   \n",
       "20                           1                       0   \n",
       "21                           1                       0   \n",
       "22                           1                       0   \n",
       "23                           1                       0   \n",
       "24                           1                       0   \n",
       "25                           1                       0   \n",
       "26                           1                       0   \n",
       "27                           1                       0   \n",
       "28                           1                       0   \n",
       "29                           1                       0   \n",
       "...                        ...                     ...   \n",
       "493991                       1                       0   \n",
       "493992                       1                       0   \n",
       "493993                       1                       0   \n",
       "493994                       1                       0   \n",
       "493995                       1                       0   \n",
       "493996                       1                       0   \n",
       "493997                       1                       0   \n",
       "493998                       1                       0   \n",
       "493999                       1                       0   \n",
       "494000                       1                       0   \n",
       "494001                       1                       0   \n",
       "494002                       1                       0   \n",
       "494003                       1                       0   \n",
       "494004                       1                       0   \n",
       "494005                       1                       0   \n",
       "494006                       1                       0   \n",
       "494007                       1                       0   \n",
       "494008                       1                       0   \n",
       "494009                       1                       0   \n",
       "494010                       1                       0   \n",
       "494011                       1                       0   \n",
       "494012                       1                       0   \n",
       "494013                       1                       0   \n",
       "494014                       1                       0   \n",
       "494015                       1                       0   \n",
       "494016                       1                       0   \n",
       "494017                       1                       0   \n",
       "494018                       1                       0   \n",
       "494019                       1                       0   \n",
       "494020                       1                       0   \n",
       "\n",
       "        dst_host_same_src_port_rate  dst_host_srv_diff_host_rate  \\\n",
       "0                              0.11                         0.00   \n",
       "1                              0.05                         0.00   \n",
       "2                              0.03                         0.00   \n",
       "3                              0.03                         0.00   \n",
       "4                              0.02                         0.00   \n",
       "5                              0.02                         0.00   \n",
       "6                              1.00                         0.04   \n",
       "7                              0.09                         0.04   \n",
       "8                              0.12                         0.04   \n",
       "9                              0.12                         0.05   \n",
       "10                             0.06                         0.05   \n",
       "11                             0.04                         0.04   \n",
       "12                             0.03                         0.04   \n",
       "13                             0.25                         0.04   \n",
       "14                             0.07                         0.04   \n",
       "15                             0.04                         0.04   \n",
       "16                             0.03                         0.04   \n",
       "17                             0.02                         0.03   \n",
       "18                             0.02                         0.03   \n",
       "19                             0.02                         0.03   \n",
       "20                             0.01                         0.03   \n",
       "21                             0.01                         0.03   \n",
       "22                             0.01                         0.03   \n",
       "23                             0.33                         0.03   \n",
       "24                             0.08                         0.03   \n",
       "25                             0.04                         0.03   \n",
       "26                             0.20                         0.04   \n",
       "27                             1.00                         0.05   \n",
       "28                             0.09                         0.05   \n",
       "29                             0.05                         0.05   \n",
       "...                             ...                          ...   \n",
       "493991                         0.04                         0.10   \n",
       "493992                         0.03                         0.10   \n",
       "493993                         0.14                         0.10   \n",
       "493994                         0.06                         0.09   \n",
       "493995                         0.04                         0.08   \n",
       "493996                         0.03                         0.07   \n",
       "493997                         0.02                         0.05   \n",
       "493998                         0.11                         0.05   \n",
       "493999                         0.05                         0.04   \n",
       "494000                         0.33                         0.04   \n",
       "494001                         0.15                         0.04   \n",
       "494002                         0.04                         0.04   \n",
       "494003                         1.00                         0.05   \n",
       "494004                         0.09                         0.05   \n",
       "494005                         0.05                         0.05   \n",
       "494006                         0.50                         0.05   \n",
       "494007                         0.10                         0.05   \n",
       "494008                         0.17                         0.07   \n",
       "494009                         0.06                         0.07   \n",
       "494010                         0.04                         0.06   \n",
       "494011                         0.03                         0.06   \n",
       "494012                         0.02                         0.05   \n",
       "494013                         0.02                         0.05   \n",
       "494014                         0.02                         0.05   \n",
       "494015                         0.01                         0.05   \n",
       "494016                         0.01                         0.05   \n",
       "494017                         0.17                         0.05   \n",
       "494018                         0.06                         0.05   \n",
       "494019                         0.04                         0.05   \n",
       "494020                         0.17                         0.05   \n",
       "\n",
       "        dst_host_serror_rate  dst_host_srv_serror_rate  dst_host_rerror_rate  \\\n",
       "0                       0.00                      0.00                  0.00   \n",
       "1                       0.00                      0.00                  0.00   \n",
       "2                       0.00                      0.00                  0.00   \n",
       "3                       0.00                      0.00                  0.00   \n",
       "4                       0.00                      0.00                  0.00   \n",
       "5                       0.00                      0.00                  0.00   \n",
       "6                       0.00                      0.00                  0.00   \n",
       "7                       0.00                      0.00                  0.00   \n",
       "8                       0.00                      0.00                  0.00   \n",
       "9                       0.00                      0.00                  0.00   \n",
       "10                      0.00                      0.00                  0.00   \n",
       "11                      0.00                      0.00                  0.00   \n",
       "12                      0.00                      0.00                  0.00   \n",
       "13                      0.00                      0.00                  0.00   \n",
       "14                      0.00                      0.00                  0.00   \n",
       "15                      0.00                      0.00                  0.00   \n",
       "16                      0.00                      0.00                  0.00   \n",
       "17                      0.00                      0.00                  0.00   \n",
       "18                      0.00                      0.00                  0.00   \n",
       "19                      0.00                      0.00                  0.00   \n",
       "20                      0.00                      0.00                  0.00   \n",
       "21                      0.00                      0.00                  0.00   \n",
       "22                      0.00                      0.00                  0.00   \n",
       "23                      0.00                      0.00                  0.00   \n",
       "24                      0.00                      0.00                  0.00   \n",
       "25                      0.00                      0.00                  0.00   \n",
       "26                      0.00                      0.00                  0.00   \n",
       "27                      0.00                      0.00                  0.00   \n",
       "28                      0.00                      0.00                  0.00   \n",
       "29                      0.00                      0.00                  0.00   \n",
       "...                      ...                       ...                   ...   \n",
       "493991                  0.00                      0.00                  0.00   \n",
       "493992                  0.00                      0.00                  0.00   \n",
       "493993                  0.00                      0.00                  0.00   \n",
       "493994                  0.00                      0.00                  0.00   \n",
       "493995                  0.00                      0.00                  0.00   \n",
       "493996                  0.00                      0.00                  0.00   \n",
       "493997                  0.00                      0.00                  0.00   \n",
       "493998                  0.00                      0.00                  0.00   \n",
       "493999                  0.00                      0.00                  0.00   \n",
       "494000                  0.00                      0.00                  0.00   \n",
       "494001                  0.08                      0.00                  0.08   \n",
       "494002                  0.04                      0.00                  0.04   \n",
       "494003                  0.00                      0.01                  0.00   \n",
       "494004                  0.00                      0.01                  0.00   \n",
       "494005                  0.00                      0.01                  0.00   \n",
       "494006                  0.00                      0.01                  0.00   \n",
       "494007                  0.00                      0.01                  0.00   \n",
       "494008                  0.00                      0.01                  0.00   \n",
       "494009                  0.00                      0.01                  0.00   \n",
       "494010                  0.00                      0.01                  0.00   \n",
       "494011                  0.00                      0.01                  0.00   \n",
       "494012                  0.00                      0.01                  0.00   \n",
       "494013                  0.00                      0.01                  0.00   \n",
       "494014                  0.00                      0.01                  0.00   \n",
       "494015                  0.00                      0.01                  0.00   \n",
       "494016                  0.00                      0.01                  0.00   \n",
       "494017                  0.00                      0.01                  0.00   \n",
       "494018                  0.06                      0.01                  0.00   \n",
       "494019                  0.04                      0.01                  0.00   \n",
       "494020                  0.00                      0.01                  0.00   \n",
       "\n",
       "        dst_host_srv_rerror_rate  classification  \n",
       "0                              0         normal.  \n",
       "1                              0         normal.  \n",
       "2                              0         normal.  \n",
       "3                              0         normal.  \n",
       "4                              0         normal.  \n",
       "5                              0         normal.  \n",
       "6                              0         normal.  \n",
       "7                              0         normal.  \n",
       "8                              0         normal.  \n",
       "9                              0         normal.  \n",
       "10                             0         normal.  \n",
       "11                             0         normal.  \n",
       "12                             0         normal.  \n",
       "13                             0         normal.  \n",
       "14                             0         normal.  \n",
       "15                             0         normal.  \n",
       "16                             0         normal.  \n",
       "17                             0         normal.  \n",
       "18                             0         normal.  \n",
       "19                             0         normal.  \n",
       "20                             0         normal.  \n",
       "21                             0         normal.  \n",
       "22                             0         normal.  \n",
       "23                             0         normal.  \n",
       "24                             0         normal.  \n",
       "25                             0         normal.  \n",
       "26                             0         normal.  \n",
       "27                             0         normal.  \n",
       "28                             0         normal.  \n",
       "29                             0         normal.  \n",
       "...                          ...             ...  \n",
       "493991                         0         normal.  \n",
       "493992                         0         normal.  \n",
       "493993                         0         normal.  \n",
       "493994                         0         normal.  \n",
       "493995                         0         normal.  \n",
       "493996                         0         normal.  \n",
       "493997                         0         normal.  \n",
       "493998                         0         normal.  \n",
       "493999                         0         normal.  \n",
       "494000                         0         normal.  \n",
       "494001                         0         normal.  \n",
       "494002                         0         normal.  \n",
       "494003                         0         normal.  \n",
       "494004                         0         normal.  \n",
       "494005                         0         normal.  \n",
       "494006                         0         normal.  \n",
       "494007                         0         normal.  \n",
       "494008                         0         normal.  \n",
       "494009                         0         normal.  \n",
       "494010                         0         normal.  \n",
       "494011                         0         normal.  \n",
       "494012                         0         normal.  \n",
       "494013                         0         normal.  \n",
       "494014                         0         normal.  \n",
       "494015                         0         normal.  \n",
       "494016                         0         normal.  \n",
       "494017                         0         normal.  \n",
       "494018                         0         normal.  \n",
       "494019                         0         normal.  \n",
       "494020                         0         normal.  \n",
       "\n",
       "[494021 rows x 42 columns]"
      ]
     },
     "execution_count": 2,
     "metadata": {},
     "output_type": "execute_result"
    }
   ],
   "source": [
    "kdd = pd.read_csv(\"data/kddcup_data_10_percent\")\n",
    "kdd"
   ]
  },
  {
   "cell_type": "code",
   "execution_count": null,
   "metadata": {
    "collapsed": false
   },
   "outputs": [],
   "source": []
  },
  {
   "cell_type": "markdown",
   "metadata": {
    "collapsed": false
   },
   "source": [
    "DOS: denial-of-service, e.g. syn flood;\n",
    "R2L: unauthorized access from a remote machine, e.g. guessing password;\n",
    "U2R:  unauthorized access to local superuser (root) privileges, e.g., various buffer overflow attacks;\n",
    "probing: surveillance and other probing, e.g., port scanning."
   ]
  },
  {
   "cell_type": "code",
   "execution_count": 3,
   "metadata": {
    "collapsed": false
   },
   "outputs": [
    {
     "data": {
      "text/plain": [
       "array(['normal.', 'buffer_overflow.', 'loadmodule.', 'perl.', 'neptune.',\n",
       "       'smurf.', 'guess_passwd.', 'pod.', 'teardrop.', 'portsweep.',\n",
       "       'ipsweep.', 'land.', 'ftp_write.', 'back.', 'imap.', 'satan.',\n",
       "       'phf.', 'nmap.', 'multihop.', 'warezmaster.', 'warezclient.',\n",
       "       'spy.', 'rootkit.'], dtype=object)"
      ]
     },
     "execution_count": 3,
     "metadata": {},
     "output_type": "execute_result"
    }
   ],
   "source": [
    "pd.unique(kdd.classification.ravel())"
   ]
  },
  {
   "cell_type": "code",
   "execution_count": 4,
   "metadata": {
    "collapsed": false
   },
   "outputs": [],
   "source": [
    "normal = kdd[kdd.classification == \"normal.\"]"
   ]
  },
  {
   "cell_type": "code",
   "execution_count": 5,
   "metadata": {
    "collapsed": false
   },
   "outputs": [],
   "source": [
    "#dos\n",
    "back= kdd[kdd.classification == \"back.\"]\n",
    "land = kdd[kdd.classification == \"land.\"]\n",
    "neptune = kdd[kdd.classification == \"neptune.\"]\n",
    "pod = kdd[kdd.classification == \"pod.\"]\n",
    "smurf = kdd[kdd.classification == \"smurf.\"]\n",
    "teardrop = kdd[kdd.classification == \"teardrop.\"]\n",
    "\n",
    "frames = [back,land,neptune,pod,smurf,teardrop]\n",
    "dos = pd.concat(frames)"
   ]
  },
  {
   "cell_type": "code",
   "execution_count": 6,
   "metadata": {
    "collapsed": false
   },
   "outputs": [],
   "source": [
    "#u2r\n",
    "loadmodule = kdd[kdd.classification == \"loadmodule.\"]\n",
    "buffer_overflow = kdd[kdd.classification == \"buffer_overflow.\"]\n",
    "perl = kdd[kdd.classification == \"perl.\"]\n",
    "rootkit = kdd[kdd.classification == \"rootkit.\"]\n",
    "\n",
    "frames = [loadmodule,buffer_overflow,perl,rootkit]\n",
    "u2r = pd.concat(frames)"
   ]
  },
  {
   "cell_type": "code",
   "execution_count": 7,
   "metadata": {
    "collapsed": false
   },
   "outputs": [],
   "source": [
    "#r2l\n",
    "ftp_write = kdd[kdd.classification == \"ftp_write.\"]\n",
    "guess_passwd = kdd[kdd.classification == \"guess_passwd.\"]\n",
    "imap = kdd[kdd.classification == \"imap.\"]\n",
    "multihop = kdd[kdd.classification == \"multihop.\"]\n",
    "phf = kdd[kdd.classification == \"phf.\"]\n",
    "spy = kdd[kdd.classification == \"spy.\"]\n",
    "warezclient = kdd[kdd.classification == \"warezclient.\"]\n",
    "warezmaster = kdd[kdd.classification == \"warezmaster.\"]\n",
    "\n",
    "frames = [ftp_write,guess_passwd,imap,multihop,phf,spy,warezclient,warezmaster]\n",
    "rl2 = pd.concat(frames)"
   ]
  },
  {
   "cell_type": "code",
   "execution_count": 8,
   "metadata": {
    "collapsed": false
   },
   "outputs": [],
   "source": [
    "#probe\n",
    "ipsweep = kdd[kdd.classification == \"ipsweep.\"]\n",
    "nmap = kdd[kdd.classification == \"nmap.\"]\n",
    "portsweep = kdd[kdd.classification == \"portsweep.\"]\n",
    "satan = kdd[kdd.classification == \"satan.\"]\n",
    "\n",
    "frames = [ipsweep,nmap,portsweep,satan]\n",
    "probe = pd.concat(frames)"
   ]
  },
  {
   "cell_type": "markdown",
   "metadata": {
    "collapsed": false
   },
   "source": [
    "What do we consider items that go in the basket.\n",
    "Each of our basket has 42 items but many of them are floats or ints\n",
    "so they have multiple values. If we look at the min, max and mean of those\n",
    "values we can break them up into distinct parts so each one will have it's own\n",
    "designation in the basket. This way we are checking for absence of some attributes\n",
    "as well as presence since that is also important.\n",
    "\n"
   ]
  },
  {
   "cell_type": "code",
   "execution_count": null,
   "metadata": {
    "collapsed": false
   },
   "outputs": [],
   "source": []
  },
  {
   "cell_type": "code",
   "execution_count": 9,
   "metadata": {
    "collapsed": false
   },
   "outputs": [
    {
     "name": "stdout",
     "output_type": "stream",
     "text": [
      "47.9793024993\n",
      "0.0\n",
      "58329\n",
      "0\n"
     ]
    }
   ],
   "source": [
    "print kdd.duration.mean()\n",
    "print kdd.duration.median()\n",
    "print kdd.duration.max()\n",
    "print kdd.duration.min()\n",
    "# 0 = \"low_duration\"\n",
    "# 0-48 = \"medium_duration\"\n",
    "# >48 = \"high_duration\""
   ]
  },
  {
   "cell_type": "code",
   "execution_count": 10,
   "metadata": {
    "collapsed": false
   },
   "outputs": [
    {
     "name": "stdout",
     "output_type": "stream",
     "text": [
      "3025.61029592\n",
      "520.0\n",
      "693375640\n",
      "0\n"
     ]
    }
   ],
   "source": [
    "print kdd.src_bytes.mean()\n",
    "print kdd.src_bytes.median()\n",
    "print kdd.src_bytes.max()\n",
    "print kdd.src_bytes.min()\n",
    "# 0-520 = low_src_bytes\n",
    "# 520 - 3025 = medium_src_bytes\n",
    "# >3025 = high_src_bytes"
   ]
  },
  {
   "cell_type": "code",
   "execution_count": 11,
   "metadata": {
    "collapsed": false
   },
   "outputs": [
    {
     "name": "stdout",
     "output_type": "stream",
     "text": [
      "868.532424735\n",
      "0.0\n",
      "5155468\n",
      "0\n"
     ]
    }
   ],
   "source": [
    "print kdd.dst_bytes.mean()\n",
    "print kdd.dst_bytes.median()\n",
    "print kdd.dst_bytes.max()\n",
    "print kdd.dst_bytes.min()\n",
    "# 0 = low_dst_bytes\n",
    "# 0-869 = medium_dst_bytes\n",
    "# > 869 = high_dst_bytes"
   ]
  },
  {
   "cell_type": "code",
   "execution_count": 12,
   "metadata": {
    "collapsed": false
   },
   "outputs": [
    {
     "name": "stdout",
     "output_type": "stream",
     "text": [
      "0.00643292491615\n",
      "3\n",
      "0\n"
     ]
    }
   ],
   "source": [
    "print kdd.wrong_fragment.mean()\n",
    "print kdd.wrong_fragment.max()\n",
    "print kdd.wrong_fragment.min()\n",
    "# 0 = low_wrong_fragment\n",
    "# 0-1 = medium_wrong_fragment\n",
    "# >1 = high_wrong_fragment"
   ]
  },
  {
   "cell_type": "code",
   "execution_count": 13,
   "metadata": {
    "collapsed": false
   },
   "outputs": [
    {
     "name": "stdout",
     "output_type": "stream",
     "text": [
      "1.41694381413e-05\n",
      "3\n",
      "0\n"
     ]
    }
   ],
   "source": [
    "print kdd.urgent.mean()\n",
    "print kdd.urgent.max()\n",
    "print kdd.urgent.min()\n",
    "# 0 = low_urgent\n",
    "# 0-1 = medium_urgent\n",
    "#>1 = high_urgent"
   ]
  },
  {
   "cell_type": "code",
   "execution_count": 14,
   "metadata": {
    "collapsed": false
   },
   "outputs": [
    {
     "name": "stdout",
     "output_type": "stream",
     "text": [
      "0.0345187755176\n",
      "30\n",
      "0\n"
     ]
    }
   ],
   "source": [
    "print kdd.hot.mean()\n",
    "print kdd.hot.max()\n",
    "print kdd.hot.min()\n",
    "# 0 = low_hot\n",
    "# 0-1 = medium_hot\n",
    "# >1 = high_hot"
   ]
  },
  {
   "cell_type": "code",
   "execution_count": 15,
   "metadata": {
    "collapsed": false
   },
   "outputs": [
    {
     "name": "stdout",
     "output_type": "stream",
     "text": [
      "0.000151815408657\n",
      "5\n",
      "0\n"
     ]
    }
   ],
   "source": [
    "print kdd.num_failed_logins.mean()\n",
    "print kdd.num_failed_logins.max()\n",
    "print kdd.num_failed_logins.min()\n",
    "# 0 = low_num_failed_logins\n",
    "# 0-1 = medium_num_failed_logins\n",
    "# >1 = high_num_failed_logins"
   ]
  },
  {
   "cell_type": "code",
   "execution_count": 16,
   "metadata": {
    "collapsed": false
   },
   "outputs": [
    {
     "name": "stdout",
     "output_type": "stream",
     "text": [
      "0.010212116489\n",
      "884\n",
      "0\n"
     ]
    }
   ],
   "source": [
    "print kdd.num_compromised.mean()\n",
    "print kdd.num_compromised.max()\n",
    "print kdd.num_compromised.min()\n",
    "# 0 = low_num_compromised\n",
    "# 0-1 = medium_num_compromised\n",
    "# >1 = high_num_compromised"
   ]
  },
  {
   "cell_type": "code",
   "execution_count": 17,
   "metadata": {
    "collapsed": false
   },
   "outputs": [
    {
     "name": "stdout",
     "output_type": "stream",
     "text": [
      "0.000111331299682\n",
      "1\n",
      "0\n"
     ]
    }
   ],
   "source": [
    "print kdd.root_shell.mean()\n",
    "print kdd.root_shell.max()\n",
    "print kdd.root_shell.min()\n",
    "# 0 = low_root_shell\n",
    "# >0 = high_root_shell"
   ]
  },
  {
   "cell_type": "code",
   "execution_count": 18,
   "metadata": {
    "collapsed": false
   },
   "outputs": [
    {
     "name": "stdout",
     "output_type": "stream",
     "text": [
      "3.64356980776e-05\n",
      "2\n",
      "0\n"
     ]
    }
   ],
   "source": [
    "print kdd.su_attempted.mean()\n",
    "print kdd.su_attempted.max()\n",
    "print kdd.su_attempted.min()\n",
    "#0 = low_su_attempted\n",
    "#>1 = high_su_attempted"
   ]
  },
  {
   "cell_type": "code",
   "execution_count": 19,
   "metadata": {
    "collapsed": false
   },
   "outputs": [
    {
     "name": "stdout",
     "output_type": "stream",
     "text": [
      "0.0113517441566\n",
      "0.0\n",
      "993\n",
      "0\n"
     ]
    }
   ],
   "source": [
    "print kdd.num_root.mean()\n",
    "print kdd.num_root.median()\n",
    "print kdd.num_root.max()\n",
    "print kdd.num_root.min()\n",
    "#0 = low_num_root\n",
    "# 0-1 = medium_num_root\n",
    "# >1 = high_num_root"
   ]
  },
  {
   "cell_type": "code",
   "execution_count": 20,
   "metadata": {
    "collapsed": false
   },
   "outputs": [
    {
     "name": "stdout",
     "output_type": "stream",
     "text": [
      "0.00108294991508\n",
      "28\n",
      "0\n"
     ]
    }
   ],
   "source": [
    "print kdd.num_file_creations.mean()\n",
    "print kdd.num_file_creations.max()\n",
    "print kdd.num_file_creations.min()\n",
    "\n",
    "# 0 = low_file_creations\n",
    "# 0-1 = medium_file_creations\n",
    "#>1 = high_file_creations"
   ]
  },
  {
   "cell_type": "code",
   "execution_count": 21,
   "metadata": {
    "collapsed": false
   },
   "outputs": [
    {
     "name": "stdout",
     "output_type": "stream",
     "text": [
      "0.000109307094233\n",
      "2\n",
      "0\n"
     ]
    }
   ],
   "source": [
    "print kdd.num_shells.mean()\n",
    "print kdd.num_shells.max()\n",
    "print kdd.num_shells.min()\n",
    "# 0 = low_num_shells\n",
    "# >1 = high_num_shells"
   ]
  },
  {
   "cell_type": "code",
   "execution_count": 22,
   "metadata": {
    "collapsed": false
   },
   "outputs": [
    {
     "name": "stdout",
     "output_type": "stream",
     "text": [
      "0.00100805431348\n",
      "8\n",
      "0\n"
     ]
    }
   ],
   "source": [
    "print kdd.num_access_files.mean()\n",
    "print kdd.num_access_files.max()\n",
    "print kdd.num_access_files.min()\n",
    "# 0 = low_num_access_files\n",
    "#>1 = high_num_access_files"
   ]
  },
  {
   "cell_type": "code",
   "execution_count": 23,
   "metadata": {
    "collapsed": false
   },
   "outputs": [
    {
     "name": "stdout",
     "output_type": "stream",
     "text": [
      "0.0\n",
      "0\n",
      "0\n"
     ]
    }
   ],
   "source": [
    "print kdd.num_outbound_cmds.mean()\n",
    "print kdd.num_outbound_cmds.min()\n",
    "print kdd.num_outbound_cmds.max()\n",
    "#0 = low_outbound_cmds\n",
    "#>0 = high_outbound_cmds"
   ]
  },
  {
   "cell_type": "code",
   "execution_count": 24,
   "metadata": {
    "collapsed": false
   },
   "outputs": [
    {
     "name": "stdout",
     "output_type": "stream",
     "text": [
      "332.285690284\n",
      "510.0\n",
      "0\n",
      "511\n"
     ]
    }
   ],
   "source": [
    "print kdd['count'].mean()\n",
    "print kdd['count'].median()\n",
    "print kdd['count'].min()\n",
    "print kdd['count'].max()\n",
    "#0-332 low_count\n",
    "#332-510\n",
    "#510-511"
   ]
  },
  {
   "cell_type": "code",
   "execution_count": 25,
   "metadata": {
    "collapsed": false
   },
   "outputs": [
    {
     "name": "stdout",
     "output_type": "stream",
     "text": [
      "292.906556604\n",
      "510.0\n",
      "511\n",
      "0\n"
     ]
    }
   ],
   "source": [
    "print kdd.srv_count.mean()\n",
    "print kdd.srv_count.median()\n",
    "print kdd.srv_count.max()\n",
    "print kdd.srv_count.min()\n",
    "#0-293 = low_srv_count\n",
    "#293-510 = medium_srv_count\n",
    "#>=510 = high_srv_count"
   ]
  },
  {
   "cell_type": "code",
   "execution_count": 26,
   "metadata": {
    "collapsed": false
   },
   "outputs": [
    {
     "name": "stdout",
     "output_type": "stream",
     "text": [
      "0.176686659069\n",
      "0.0\n"
     ]
    }
   ],
   "source": [
    "print kdd.serror_rate.mean()\n",
    "print kdd.serror_rate.median()\n",
    "# 0 = low_serror_rate\n",
    "# 0 - 0.17 = medium_serror_rate\n",
    "# > 0.17 = high_serror_rate"
   ]
  },
  {
   "cell_type": "code",
   "execution_count": 27,
   "metadata": {
    "collapsed": false
   },
   "outputs": [
    {
     "name": "stdout",
     "output_type": "stream",
     "text": [
      "0.176608808128\n",
      "0.0\n"
     ]
    }
   ],
   "source": [
    "print kdd.srv_serror_rate.mean()\n",
    "print kdd.srv_serror_rate.median()\n",
    "# 0 = low_srv_serror_rate\n",
    "# 0 - 0.17 = medium_srv_serror_rate\n",
    "# > 0.17 = high_srv_serror_rate"
   ]
  },
  {
   "cell_type": "code",
   "execution_count": 28,
   "metadata": {
    "collapsed": false
   },
   "outputs": [
    {
     "name": "stdout",
     "output_type": "stream",
     "text": [
      "0.0574334087012\n",
      "0.0\n"
     ]
    }
   ],
   "source": [
    "print kdd.rerror_rate.mean()\n",
    "print kdd.rerror_rate.median()\n",
    "# 0 = low rerror_rate\n",
    "# 0 - 0.05 = medium_rerror_rate\n",
    "#>.05 = high_rerror_rate\n"
   ]
  },
  {
   "cell_type": "code",
   "execution_count": 29,
   "metadata": {
    "collapsed": false
   },
   "outputs": [
    {
     "name": "stdout",
     "output_type": "stream",
     "text": [
      "0.0577189431219\n",
      "0.0\n"
     ]
    }
   ],
   "source": [
    "print kdd.srv_rerror_rate.mean()\n",
    "print kdd.srv_rerror_rate.median()\n",
    "# 0 = low rerror_rate\n",
    "# 0 - 0.05 = medium_rerror_rate\n",
    "#>.05 = high_rerror_rate"
   ]
  },
  {
   "cell_type": "code",
   "execution_count": 30,
   "metadata": {
    "collapsed": false
   },
   "outputs": [
    {
     "name": "stdout",
     "output_type": "stream",
     "text": [
      "0.791547343129\n",
      "1.0\n"
     ]
    }
   ],
   "source": [
    "print kdd.same_srv_rate.mean()\n",
    "print kdd.same_srv_rate.median()\n",
    "# 0- .79 = low_same_srv_rate\n",
    "#.79-1 = medium_same_srv_rate\n",
    "# 1 = high_same_srv_rate"
   ]
  },
  {
   "cell_type": "code",
   "execution_count": 31,
   "metadata": {
    "collapsed": false
   },
   "outputs": [
    {
     "name": "stdout",
     "output_type": "stream",
     "text": [
      "0.0209823873884\n",
      "0.0\n"
     ]
    }
   ],
   "source": [
    "print kdd.diff_srv_rate.mean()\n",
    "print kdd.diff_srv_rate.median()\n",
    "# 0 = low_diff_srv_rate\n",
    "# 0-.02 = medium_diff_srv_rate\n",
    "# > .02 = high_diff_srv_rate"
   ]
  },
  {
   "cell_type": "code",
   "execution_count": 32,
   "metadata": {
    "collapsed": false
   },
   "outputs": [
    {
     "name": "stdout",
     "output_type": "stream",
     "text": [
      "0.0289968037796\n",
      "0.0\n"
     ]
    }
   ],
   "source": [
    "print kdd.srv_diff_host_rate.mean()\n",
    "print kdd.srv_diff_host_rate.median()\n",
    "# 0 = low_srv_diff_host_rate\n",
    "# 0-.02 = medium_srv_diff_host_rate\n",
    "# > .02 = high_srv_diff_host_rate"
   ]
  },
  {
   "cell_type": "code",
   "execution_count": 33,
   "metadata": {
    "collapsed": false
   },
   "outputs": [
    {
     "name": "stdout",
     "output_type": "stream",
     "text": [
      "232.470777558\n",
      "255.0\n",
      "255\n",
      "0\n"
     ]
    }
   ],
   "source": [
    "print kdd.dst_host_count.mean()\n",
    "print kdd.dst_host_count.median()\n",
    "print kdd.dst_host_count.max()\n",
    "print kdd.dst_host_count.min()\n",
    "#255 = high_dst_host_count\n",
    "#255-232 = medium_dst_host_count\n",
    "# 0-232 = low_dst_host_count"
   ]
  },
  {
   "cell_type": "code",
   "execution_count": 34,
   "metadata": {
    "collapsed": false
   },
   "outputs": [
    {
     "name": "stdout",
     "output_type": "stream",
     "text": [
      "188.665670083\n",
      "255.0\n",
      "0\n",
      "255\n"
     ]
    }
   ],
   "source": [
    "print kdd.dst_host_srv_count.mean()\n",
    "print kdd.dst_host_srv_count.median()\n",
    "print kdd.dst_host_srv_count.min()\n",
    "print kdd.dst_host_srv_count.max()\n",
    "#255 = high_dst_host_srv_count\n",
    "#255-188 = medium_dst_host_srv_count\n",
    "# 0-188 = low_dst_host_srv_count"
   ]
  },
  {
   "cell_type": "code",
   "execution_count": 35,
   "metadata": {
    "collapsed": false
   },
   "outputs": [
    {
     "name": "stdout",
     "output_type": "stream",
     "text": [
      "0.753779697624\n",
      "1.0\n"
     ]
    }
   ],
   "source": [
    "print kdd.dst_host_same_srv_rate.mean()\n",
    "print kdd.dst_host_same_srv_rate.median()\n",
    "# 0-.75 low_dst_host_same_srv_rate\n",
    "# .75 -1 high_dst_host_sam_srv_rate"
   ]
  },
  {
   "cell_type": "code",
   "execution_count": 36,
   "metadata": {
    "collapsed": false
   },
   "outputs": [
    {
     "name": "stdout",
     "output_type": "stream",
     "text": [
      "0.030905730728\n",
      "0.0\n"
     ]
    }
   ],
   "source": [
    "print kdd.dst_host_diff_srv_rate.mean()\n",
    "print kdd.dst_host_diff_srv_rate.median()\n",
    "# 0 low_dst_host_diff_srv_rate\n",
    "# >0 high_dst_host_diff_srv_rate"
   ]
  },
  {
   "cell_type": "code",
   "execution_count": 37,
   "metadata": {
    "collapsed": false
   },
   "outputs": [
    {
     "name": "stdout",
     "output_type": "stream",
     "text": [
      "0.60193475581\n",
      "1.0\n"
     ]
    }
   ],
   "source": [
    "print kdd.dst_host_same_src_port_rate.mean()\n",
    "print kdd.dst_host_same_src_port_rate.median()\n",
    "#<.6 low_dst_host_same_src_port_rate\n",
    "#>=.6 high_dst_host_same_src_port_rate"
   ]
  },
  {
   "cell_type": "code",
   "execution_count": 38,
   "metadata": {
    "collapsed": false
   },
   "outputs": [
    {
     "name": "stdout",
     "output_type": "stream",
     "text": [
      "0.00668350130865\n",
      "0.0\n"
     ]
    }
   ],
   "source": [
    "print kdd.dst_host_srv_diff_host_rate.mean()\n",
    "print kdd.dst_host_srv_diff_host_rate.median()\n",
    "# <.01 low_dst_host_srv_diff_host_rate\n",
    "# >.01 high_dst_host_srv_diff_host_rate"
   ]
  },
  {
   "cell_type": "code",
   "execution_count": 39,
   "metadata": {
    "collapsed": false
   },
   "outputs": [
    {
     "name": "stdout",
     "output_type": "stream",
     "text": [
      "0.1767539639\n",
      "0.0\n"
     ]
    }
   ],
   "source": [
    "print kdd.dst_host_serror_rate.mean()\n",
    "print kdd.dst_host_serror_rate.median()\n",
    "# <.17 low_dst_host_serror_rate\n",
    "# >.17 high_dst_host_serror_rate"
   ]
  },
  {
   "cell_type": "code",
   "execution_count": 40,
   "metadata": {
    "collapsed": false
   },
   "outputs": [
    {
     "name": "stdout",
     "output_type": "stream",
     "text": [
      "0.17644262086\n",
      "0.0\n"
     ]
    }
   ],
   "source": [
    "print kdd.dst_host_srv_serror_rate.mean()\n",
    "print kdd.dst_host_srv_serror_rate.median()\n",
    "# <.17 low_dst_host_srv_serror_rate\n",
    "#>.17 high_dst_host_srv_serror_rate"
   ]
  },
  {
   "cell_type": "code",
   "execution_count": 41,
   "metadata": {
    "collapsed": false
   },
   "outputs": [
    {
     "name": "stdout",
     "output_type": "stream",
     "text": [
      "0.058117610385\n",
      "0.0\n"
     ]
    }
   ],
   "source": [
    "print kdd.dst_host_rerror_rate.mean()\n",
    "print kdd.dst_host_rerror_rate.median()\n",
    "# <.05 low_dst_host_rerror_rate\n",
    "# >.05 high_dst_host_rerror_rate"
   ]
  },
  {
   "cell_type": "code",
   "execution_count": 42,
   "metadata": {
    "collapsed": false
   },
   "outputs": [
    {
     "name": "stdout",
     "output_type": "stream",
     "text": [
      "0.0574116687347\n",
      "0.0\n"
     ]
    }
   ],
   "source": [
    "print kdd.dst_host_srv_rerror_rate.mean()\n",
    "print kdd.dst_host_srv_rerror_rate.median()\n",
    "#<.05 low_dst_host_srv_rerror_rate\n",
    "#>.05 high_dst_host_srv_rerror_rate"
   ]
  },
  {
   "cell_type": "markdown",
   "metadata": {
    "collapsed": true
   },
   "source": [
    "The following are the symbolic elements of the signature\n",
    "Each of these will have it's own presence in the bucket"
   ]
  },
  {
   "cell_type": "code",
   "execution_count": 43,
   "metadata": {
    "collapsed": false
   },
   "outputs": [
    {
     "data": {
      "text/plain": [
       "array(['tcp', 'udp', 'icmp'], dtype=object)"
      ]
     },
     "execution_count": 43,
     "metadata": {},
     "output_type": "execute_result"
    }
   ],
   "source": [
    "pd.unique(kdd.protocol_type.ravel())"
   ]
  },
  {
   "cell_type": "code",
   "execution_count": 44,
   "metadata": {
    "collapsed": false
   },
   "outputs": [
    {
     "data": {
      "text/plain": [
       "array(['http', 'smtp', 'finger', 'domain_u', 'auth', 'telnet', 'ftp',\n",
       "       'eco_i', 'ntp_u', 'ecr_i', 'other', 'private', 'pop_3', 'ftp_data',\n",
       "       'rje', 'time', 'mtp', 'link', 'remote_job', 'gopher', 'ssh', 'name',\n",
       "       'whois', 'domain', 'login', 'imap4', 'daytime', 'ctf', 'nntp',\n",
       "       'shell', 'IRC', 'nnsp', 'http_443', 'exec', 'printer', 'efs',\n",
       "       'courier', 'uucp', 'klogin', 'kshell', 'echo', 'discard', 'systat',\n",
       "       'supdup', 'iso_tsap', 'hostnames', 'csnet_ns', 'pop_2', 'sunrpc',\n",
       "       'uucp_path', 'netbios_ns', 'netbios_ssn', 'netbios_dgm', 'sql_net',\n",
       "       'vmnet', 'bgp', 'Z39_50', 'ldap', 'netstat', 'urh_i', 'X11',\n",
       "       'urp_i', 'pm_dump', 'tftp_u', 'tim_i', 'red_i'], dtype=object)"
      ]
     },
     "execution_count": 44,
     "metadata": {},
     "output_type": "execute_result"
    }
   ],
   "source": [
    "pd.unique(kdd.service.ravel())"
   ]
  },
  {
   "cell_type": "code",
   "execution_count": 45,
   "metadata": {
    "collapsed": false
   },
   "outputs": [
    {
     "data": {
      "text/plain": [
       "array(['SF', 'S1', 'REJ', 'S2', 'S0', 'S3', 'RSTO', 'RSTR', 'RSTOS0',\n",
       "       'OTH', 'SH'], dtype=object)"
      ]
     },
     "execution_count": 45,
     "metadata": {},
     "output_type": "execute_result"
    }
   ],
   "source": [
    "pd.unique(kdd.flag.ravel())"
   ]
  },
  {
   "cell_type": "code",
   "execution_count": 46,
   "metadata": {
    "collapsed": false
   },
   "outputs": [
    {
     "data": {
      "text/plain": [
       "array([0, 1])"
      ]
     },
     "execution_count": 46,
     "metadata": {},
     "output_type": "execute_result"
    }
   ],
   "source": [
    "pd.unique(kdd.land.ravel())\n",
    "# no_land\n",
    "# yes_land"
   ]
  },
  {
   "cell_type": "code",
   "execution_count": 47,
   "metadata": {
    "collapsed": false
   },
   "outputs": [
    {
     "data": {
      "text/plain": [
       "array([1, 0])"
      ]
     },
     "execution_count": 47,
     "metadata": {},
     "output_type": "execute_result"
    }
   ],
   "source": [
    "pd.unique(kdd.logged_in.ravel())\n",
    "#no_logged_in\n",
    "#yes_logged_in"
   ]
  },
  {
   "cell_type": "code",
   "execution_count": 48,
   "metadata": {
    "collapsed": false
   },
   "outputs": [
    {
     "data": {
      "text/plain": [
       "array([0])"
      ]
     },
     "execution_count": 48,
     "metadata": {},
     "output_type": "execute_result"
    }
   ],
   "source": [
    "pd.unique(kdd.is_host_login.ravel())\n",
    "#no_is_host_login\n",
    "#yes_is_host_login"
   ]
  },
  {
   "cell_type": "code",
   "execution_count": 49,
   "metadata": {
    "collapsed": false
   },
   "outputs": [
    {
     "data": {
      "text/plain": [
       "array([0, 1])"
      ]
     },
     "execution_count": 49,
     "metadata": {},
     "output_type": "execute_result"
    }
   ],
   "source": [
    "pd.unique(kdd.is_guest_login.ravel())\n",
    "#no_is_guest_login\n",
    "#yes_is_guest_login"
   ]
  },
  {
   "cell_type": "code",
   "execution_count": 50,
   "metadata": {
    "collapsed": false
   },
   "outputs": [],
   "source": [
    "normal_basket_data = normal.values\n",
    "dos_basket_data = dos.values\n",
    "u2r_basket_data = u2r.values\n",
    "rl2_basket_data = rl2.values\n",
    "probe_basket_data = probe.values"
   ]
  },
  {
   "cell_type": "markdown",
   "metadata": {
    "collapsed": false
   },
   "source": [
    "Take the array and make it and transform all of its elements into identifiers to be used in the Apriori Association algorithm."
   ]
  },
  {
   "cell_type": "code",
   "execution_count": 52,
   "metadata": {
    "collapsed": false
   },
   "outputs": [],
   "source": [
    "def makeBaskets(array):\n",
    "    tempArray = []\n",
    "    for x in range(0, len(array)):\n",
    "        tempArray.append([])\n",
    "        # 0 = \"low_duration\"\n",
    "        # 0-48 = \"medium_duration\"\n",
    "        # >48 = \"high_duration\"\n",
    "        if array[x][0]== 0:\n",
    "            tempArray[x].append(\"low_duration\")\n",
    "        elif array[x][0] > 0 and array[x][0]<= 100:\n",
    "            tempArray[x].append(\"medium_duration\")\n",
    "        elif array[x][0] > 100:\n",
    "            tempArray[x].append(\"high_duration\")\n",
    "            \n",
    "        # 0-520 = low_src_bytes\n",
    "        # 520 - 3025 = medium_src_bytes\n",
    "        # >3025 = high_src_bytes\n",
    "        if array[x][4] <=520:\n",
    "            tempArray[x].append(\"low_src_bytes\")\n",
    "        elif array[x][4] > 520 and array[x][4] <= 5000:\n",
    "            tempArray[x].append(\"medium_src_bytes\")\n",
    "        elif array[x][4] > 5000:\n",
    "            tempArray[x].append(\"high_src_bytes\")\n",
    "            \n",
    "        # 0 = low_dst_bytes\n",
    "        # 0-869 = medium_dst_bytes\n",
    "        # > 869 = high_dst_bytes\n",
    "        if array[x][5] == 0:\n",
    "            tempArray[x].append(\"low_dst_bytes\")\n",
    "        elif array[x][5]> 0 & array[x][5]<= 1000:\n",
    "            tempArray[x].append(\"medium_dst_bytes\")\n",
    "        elif array[x][5]>1000:\n",
    "            tempArray[x].append(\"high_dst_bytes\")\n",
    "            \n",
    "        # yes_land or no_land\n",
    "        if array[x][6] == 0:\n",
    "            tempArray[x].append(\"no_land\")\n",
    "        elif array[x][6] == 1:\n",
    "            tempArray[x].append(\"yes_land\")\n",
    "            \n",
    "        # 0 = low_wrong_fragment\n",
    "        # 0-1 = medium_wrong_fragment\n",
    "        # >1 = high_wrong_fragment\n",
    "        if array[x][7] > 0:\n",
    "            tempArray[x].append(\"wrong_fragment\")\n",
    "            \n",
    "        # 0 = low_urgent\n",
    "        #>0 = high_urgent\n",
    "        \n",
    "        if array[x][8] > 0:\n",
    "            tempArray[x].append(\"urgent\")\n",
    "            \n",
    "        # 0 = low_hot\n",
    "        # 0-1 = medium_hot\n",
    "        # >0 = high_hot\n",
    "        if array[x][9] >0:\n",
    "            tempArray[x].append(\"hot\")\n",
    "            \n",
    "        # 0 = low_num_failed_logins\n",
    "        # 0-1 = medium_num_failed_logins\n",
    "        # >1 = high_num_failed_logins\n",
    "        if array[x][10] > 0:\n",
    "            tempArray[x].append(\"failed_logins\")\n",
    "    \n",
    "            \n",
    "        #no_logged_in\n",
    "        #yes_logged_in\n",
    "        if array[x][11] == 0:\n",
    "            tempArray[x].append(\"no_logged_in\")\n",
    "        elif array[x][11] == 1:\n",
    "            tempArray[x].append(\"yes_logged_in\")\n",
    "            \n",
    "        # 0 = low_num_compromised\n",
    "        # >0 = high_num_compromised\n",
    "        if array[x][12] > 0:\n",
    "            tempArray[x].append(\"num_compromised\")\n",
    "\n",
    "        # 0 = low_root_shell\n",
    "        # >0 = high_root_shell\n",
    "        if array[x][13] >0:\n",
    "            tempArray[x].append(\"root_shell\")\n",
    "            \n",
    "        #0 = low_su_attempted\n",
    "        #>1 = high_su_attempted\n",
    "        if array[x][14] >0:\n",
    "            tempArray[x].append(\"su_attempted\")\n",
    "            \n",
    "        #0 = low_num_root\n",
    "        # >0 = high_num_root\n",
    "        if array[x][15] >0:\n",
    "            tempArray[x].append(\"high_num_root\")\n",
    "            \n",
    "        # 0 = low_file_creations\n",
    "        #>1 = high_file_creations\n",
    "        if array[x][16] >0:\n",
    "            tempArray[x].append(\"file_creations\")\n",
    "            \n",
    "        # 0 = low_num_shells\n",
    "        # >1 = high_num_shells\n",
    "        if array[x][17] >0:\n",
    "            tempArray[x].append(\"high_num_shells\")\n",
    "            \n",
    "        # 0 = low_num_access_files\n",
    "        #>1 = high_num_access_files\n",
    "        if array[x][18] >0:\n",
    "            tempArray[x].append(\"high_num_access_files\")\n",
    "            \n",
    "        # 0 = low_num_outbound_cmds\n",
    "        #>1 = high_num_outbound_cmds\n",
    "        if array[x][19] >0:\n",
    "            tempArray[x].append(\"high_num_outbound_cmds\")\n",
    "             \n",
    "        #'is_hot_login',\n",
    "        if array[x][20] == 0:\n",
    "            tempArray[x].append(\"no_hot_login\")\n",
    "        elif array[x][20] ==1:\n",
    "            tempArray[x].append(\"yes_hot_login\")\n",
    " \n",
    "        #'is_guest_login',\n",
    "        if array[x][21] == 0:\n",
    "            tempArray[x].append(\"no_guest_login\")\n",
    "        elif array[x][21] ==1:\n",
    "            tempArray[x].append(\"yes_guest_login\")\n",
    "            \n",
    "        #0-332 low_count\n",
    "        #332-510 medium_count\n",
    "        #510-511 high_count\n",
    "        if array[x][22] < 332:\n",
    "            tempArray[x].append(\"low_count\")\n",
    "        elif array[x][22]>= 332:\n",
    "            tempArray[x].append(\"high_count\")\n",
    "            \n",
    "        #0-293 = low_srv_count\n",
    "        #293-510 = medium_srv_count\n",
    "        #>=510 = high_srv_count\n",
    "        if array[x][23] < 292:\n",
    "            tempArray[x].append(\"low_srv_count\")\n",
    "        elif array[x][23]>= 292:\n",
    "            tempArray[x].append(\"high_srv_count\")\n",
    "\n",
    "            \n",
    "        # 0 = low_serror_rate\n",
    "        # 0 - 0.17 = medium_serror_rate\n",
    "        # > 0.17 = high_serror_rate\n",
    "        \n",
    "        if array[x][24] >0:\n",
    "            tempArray[x].append(\"high_serror_rate\")\n",
    "            \n",
    "        # 0 = low_srv_serror_rate\n",
    "        # 0 - 0.17 = medium_srv_serror_rate\n",
    "        # > 0.17 = high_srv_serror_rate\n",
    "        if array[x][25] >0:\n",
    "            tempArray[x].append(\"high_srv_serror_rate\")\n",
    "            \n",
    "        # 0 = low rerror_rate\n",
    "        # 0 - 0.05 = medium_rerror_rate\n",
    "        #>.05 = high_rerror_rate\n",
    "        if array[x][26] >0:\n",
    "            tempArray[x].append(\"high_rerror_rate\")\n",
    "            \n",
    "        # 0 = low_srv_rerror_rate\n",
    "        # 0 - 0.05 = medium_srv_rerror_rate\n",
    "        #>.05 = high_srv_rerror_rate\n",
    "        if array[x][27] >0:\n",
    "            tempArray[x].append(\"high_srv_rerror_rate\")\n",
    "\n",
    "        # 0- .79 = low_same_srv_rate\n",
    "        #.79-1 = medium_same_srv_rate\n",
    "        # 1 = high_same_srv_rate\n",
    "        if array[x][28] <1:\n",
    "            tempArray[x].append(\"low_same_srv_rate\")\n",
    "            \n",
    "        # 0 = low_diff_srv_rate\n",
    "        # 0-.02 = medium_diff_srv_rate\n",
    "        # > .02 = high_diff_srv_rate\n",
    "        if array[x][29] >0:\n",
    "            tempArray[x].append(\"high_diff_srv_rate\")\n",
    "\n",
    "            \n",
    "        # 0 = low_srv_diff_host_rate\n",
    "        # 0-.02 = medium_srv_diff_host_rate\n",
    "        # > .02 = high_srv_diff_host_rate\n",
    "        if array[x][30] >0:\n",
    "            tempArray[x].append(\"high_srv_diff_host_rate\")\n",
    "    \n",
    "        #255 = high_dst_host_count\n",
    "        #255-232 = medium_dst_host_count\n",
    "        # 0-232 = low_dst_host_count\n",
    "        if array[x][31] <232:\n",
    "            tempArray[x].append(\"low_dst_host_count\")\n",
    "        elif array[x][31] >=232: \n",
    "            tempArray[x].append(\"high_dst_host_count\")\n",
    "    \n",
    "        #255 = high_dst_host_srv_count\n",
    "        #255-188 = medium_dst_host_srv_count\n",
    "        # 0-188 = low_dst_host_srv_count\n",
    "        if array[x][32] <188:\n",
    "            tempArray[x].append(\"low_dst_host_srv_count\")\n",
    "        elif array[x][32] >=188:\n",
    "            tempArray[x].append(\"high_dst_host_srv_count\")\n",
    "        \n",
    "        \n",
    "        # 0-.75 low_dst_host_same_srv_rate\n",
    "        # .75 -1 high_dst_host_sam_srv_rate\n",
    "        \n",
    "        if array[x][33]<.75:\n",
    "            tempArray[x].append(\"low_dst_host_same_srv_rate\")\n",
    "        elif array[x][33] >= .75:\n",
    "            tempArray[x].append(\"high_dst_host_sam_srv_rate\")\n",
    "            \n",
    "        # 0 low_dst_host_diff_srv_rate\n",
    "        # >0 high_dst_host_diff_srv_rate\n",
    "        if array[x][34]>0:\n",
    "            tempArray[x].append(\"high_dst_host_diff_srv_rate\")\n",
    "    \n",
    "        #<.6 low_dst_host_same_src_port_rate\n",
    "        #>=.6 high_dst_host_same_src_port_rate\n",
    "        if array[x][35]<.6:\n",
    "            tempArray[x].append(\"low_dst_host_same_src_port_rate\")\n",
    "        elif array[x][35] >=.6:\n",
    "            tempArray[x].append(\"high_dst_host_same_src_port_rate\")\n",
    "        \n",
    "        # <.01 low_dst_host_srv_diff_host_rate\n",
    "        # >.01 high_dst_host_srv_diff_host_rate\n",
    "        if array[x][36]>0:\n",
    "            tempArray[x].append(\"high_dst_host_srv_diff_host_rate\")\n",
    "\n",
    "            \n",
    "        # <.17 low_dst_host_serror_rate\n",
    "        # >.17 high_dst_host_serror_rate\n",
    "        if array[x][37]<.17:\n",
    "            tempArray[x].append(\"low_dst_host_serror_rate\")\n",
    "        elif array[x][37] >=.17:\n",
    "            tempArray[x].append(\"high_dst_host_serror_rate\")\n",
    "            \n",
    "        # <.17 low_dst_host_srv_serror_rate\n",
    "        #>.17 high_dst_host_srv_serror_rate\n",
    "        if array[x][38]<.17:\n",
    "            tempArray[x].append(\"low_dst_host_srv_serror_rate\")\n",
    "        elif array[x][38] >=.17:\n",
    "            tempArray[x].append(\"high_dst_host_srv_serror_rate\")\n",
    "        \n",
    "        # <.05 low_dst_host_rerror_rate\n",
    "        # >.05 high_dst_host_rerror_rate\n",
    "        if array[x][39]>0:\n",
    "            tempArray[x].append(\"low_dst_host_srv_serror_rate\")\n",
    "            \n",
    "        #<.05 low_dst_host_srv_rerror_rate\n",
    "        #>.05 high_dst_host_srv_rerror_rate\n",
    "        if array[x][40]>0:\n",
    "            tempArray[x].append(\"low_dst_host_srv_serror_rate\")\n",
    "    return tempArray\n",
    "\n",
    "        "
   ]
  },
  {
   "cell_type": "markdown",
   "metadata": {
    "collapsed": true
   },
   "source": [
    "Apply the transformation to have all of the proper characteristics in the basket"
   ]
  },
  {
   "cell_type": "code",
   "execution_count": 53,
   "metadata": {
    "collapsed": false
   },
   "outputs": [],
   "source": [
    "normal_baskets = makeBaskets(normal_basket_data)\n",
    "u2r_baskets = makeBaskets(u2r_basket_data)\n",
    "dos_baskets = makeBaskets(dos_basket_data)\n",
    "rl2_baskets = makeBaskets(rl2_basket_data)\n",
    "probe_baskets = makeBaskets(probe_basket_data)"
   ]
  },
  {
   "cell_type": "code",
   "execution_count": null,
   "metadata": {
    "collapsed": false
   },
   "outputs": [],
   "source": []
  },
  {
   "cell_type": "markdown",
   "metadata": {
    "collapsed": true
   },
   "source": [
    "The following is the apriori with association algorithm taken from \n",
    "https://github.com/asaini/Apriori"
   ]
  },
  {
   "cell_type": "code",
   "execution_count": null,
   "metadata": {
    "collapsed": false
   },
   "outputs": [],
   "source": []
  },
  {
   "cell_type": "code",
   "execution_count": 54,
   "metadata": {
    "collapsed": false
   },
   "outputs": [],
   "source": [
    "def load_dataset():\n",
    "    \"Load the sample dataset.\"\n",
    "    return [[1, 3, 4], [2, 3, 5], [1, 2, 3, 5], [2, 5]]\n",
    "\n",
    "\n",
    "def createC1(dataset):\n",
    "    \"Create a list of candidate item sets of size one.\"\n",
    "    c1 = []\n",
    "    for transaction in dataset:\n",
    "        for item in transaction:\n",
    "            if not [item] in c1:\n",
    "                c1.append([item])\n",
    "    c1.sort()\n",
    "    #frozenset because it will be a ket of a dictionary.\n",
    "    return map(frozenset, c1)\n",
    "\n",
    "\n",
    "def scanD(dataset, candidates, min_support):\n",
    "    \"Returns all candidates that meets a minimum support level\"\n",
    "    sscnt = {}\n",
    "    for tid in dataset:\n",
    "        for can in candidates:\n",
    "            if can.issubset(tid):\n",
    "                sscnt.setdefault(can, 0)\n",
    "                sscnt[can] += 1\n",
    "\n",
    "    num_items = float(len(dataset))\n",
    "    retlist = []\n",
    "    support_data = {}\n",
    "    for key in sscnt:\n",
    "        support = sscnt[key] / num_items\n",
    "        if support >= min_support:\n",
    "            retlist.insert(0, key)\n",
    "        support_data[key] = support\n",
    "    return retlist, support_data\n",
    "\n",
    "\n",
    "def aprioriGen(freq_sets, k):\n",
    "    \"Generate the joint transactions from candidate sets\"\n",
    "    retList = []\n",
    "    lenLk = len(freq_sets)\n",
    "    for i in range(lenLk):\n",
    "        for j in range(i + 1, lenLk):\n",
    "            L1 = list(freq_sets[i])[:k - 2]\n",
    "            L2 = list(freq_sets[j])[:k - 2]\n",
    "            L1.sort()\n",
    "            L2.sort()\n",
    "            if L1 == L2:\n",
    "                retList.append(freq_sets[i] | freq_sets[j])\n",
    "    return retList\n",
    "\n",
    "\n",
    "def apriori(dataset, minsupport=0.5):\n",
    "    \"Generate a list of candidate item sets\"\n",
    "    C1 = createC1(dataset)\n",
    "    D = map(set, dataset)\n",
    "    L1, support_data = scanD(D, C1, minsupport)\n",
    "    L = [L1]\n",
    "    k = 2\n",
    "    while (len(L[k - 2]) > 0):\n",
    "        Ck = aprioriGen(L[k - 2], k)\n",
    "        Lk, supK = scanD(D, Ck, minsupport)\n",
    "        support_data.update(supK)\n",
    "        L.append(Lk)\n",
    "        k += 1\n",
    "\n",
    "    return L, support_data"
   ]
  },
  {
   "cell_type": "code",
   "execution_count": null,
   "metadata": {
    "collapsed": false
   },
   "outputs": [],
   "source": []
  },
  {
   "cell_type": "code",
   "execution_count": 55,
   "metadata": {
    "collapsed": false
   },
   "outputs": [
    {
     "data": {
      "text/plain": [
       "[frozenset({'failed_logins'}),\n",
       " frozenset({'file_creations'}),\n",
       " frozenset({'high_diff_srv_rate'}),\n",
       " frozenset({'high_dst_host_count'}),\n",
       " frozenset({'high_dst_host_diff_srv_rate'}),\n",
       " frozenset({'high_dst_host_sam_srv_rate'}),\n",
       " frozenset({'high_dst_host_same_src_port_rate'}),\n",
       " frozenset({'high_dst_host_srv_diff_host_rate'}),\n",
       " frozenset({'high_dst_host_srv_serror_rate'}),\n",
       " frozenset({'high_duration'}),\n",
       " frozenset({'high_num_access_files'}),\n",
       " frozenset({'high_num_root'}),\n",
       " frozenset({'high_num_shells'}),\n",
       " frozenset({'high_rerror_rate'}),\n",
       " frozenset({'high_serror_rate'}),\n",
       " frozenset({'high_src_bytes'}),\n",
       " frozenset({'high_srv_rerror_rate'}),\n",
       " frozenset({'hot'}),\n",
       " frozenset({'low_count'}),\n",
       " frozenset({'low_dst_bytes'}),\n",
       " frozenset({'low_dst_host_count'}),\n",
       " frozenset({'low_dst_host_same_src_port_rate'}),\n",
       " frozenset({'low_dst_host_same_srv_rate'}),\n",
       " frozenset({'low_dst_host_serror_rate'}),\n",
       " frozenset({'low_dst_host_srv_count'}),\n",
       " frozenset({'low_dst_host_srv_serror_rate'}),\n",
       " frozenset({'low_duration'}),\n",
       " frozenset({'low_same_srv_rate'}),\n",
       " frozenset({'low_src_bytes'}),\n",
       " frozenset({'low_srv_count'}),\n",
       " frozenset({'medium_dst_bytes'}),\n",
       " frozenset({'medium_duration'}),\n",
       " frozenset({'medium_src_bytes'}),\n",
       " frozenset({'no_guest_login'}),\n",
       " frozenset({'no_hot_login'}),\n",
       " frozenset({'no_land'}),\n",
       " frozenset({'no_logged_in'}),\n",
       " frozenset({'num_compromised'}),\n",
       " frozenset({'root_shell'}),\n",
       " frozenset({'urgent'}),\n",
       " frozenset({'yes_logged_in'})]"
      ]
     },
     "execution_count": 55,
     "metadata": {},
     "output_type": "execute_result"
    }
   ],
   "source": [
    "C1 = createC1(u2r_baskets)\n",
    "C1"
   ]
  },
  {
   "cell_type": "code",
   "execution_count": 56,
   "metadata": {
    "collapsed": false
   },
   "outputs": [
    {
     "data": {
      "text/plain": [
       "[frozenset({'failed_logins'}),\n",
       " frozenset({'file_creations'}),\n",
       " frozenset({'high_count'}),\n",
       " frozenset({'high_diff_srv_rate'}),\n",
       " frozenset({'high_dst_host_count'}),\n",
       " frozenset({'high_dst_host_diff_srv_rate'}),\n",
       " frozenset({'high_dst_host_sam_srv_rate'}),\n",
       " frozenset({'high_dst_host_same_src_port_rate'}),\n",
       " frozenset({'high_dst_host_serror_rate'}),\n",
       " frozenset({'high_dst_host_srv_count'}),\n",
       " frozenset({'high_dst_host_srv_diff_host_rate'}),\n",
       " frozenset({'high_dst_host_srv_serror_rate'}),\n",
       " frozenset({'high_duration'}),\n",
       " frozenset({'high_num_access_files'}),\n",
       " frozenset({'high_num_root'}),\n",
       " frozenset({'high_num_shells'}),\n",
       " frozenset({'high_rerror_rate'}),\n",
       " frozenset({'high_serror_rate'}),\n",
       " frozenset({'high_src_bytes'}),\n",
       " frozenset({'high_srv_count'}),\n",
       " frozenset({'high_srv_diff_host_rate'}),\n",
       " frozenset({'high_srv_rerror_rate'}),\n",
       " frozenset({'high_srv_serror_rate'}),\n",
       " frozenset({'hot'}),\n",
       " frozenset({'low_count'}),\n",
       " frozenset({'low_dst_bytes'}),\n",
       " frozenset({'low_dst_host_count'}),\n",
       " frozenset({'low_dst_host_same_src_port_rate'}),\n",
       " frozenset({'low_dst_host_same_srv_rate'}),\n",
       " frozenset({'low_dst_host_serror_rate'}),\n",
       " frozenset({'low_dst_host_srv_count'}),\n",
       " frozenset({'low_dst_host_srv_serror_rate'}),\n",
       " frozenset({'low_duration'}),\n",
       " frozenset({'low_same_srv_rate'}),\n",
       " frozenset({'low_src_bytes'}),\n",
       " frozenset({'low_srv_count'}),\n",
       " frozenset({'medium_dst_bytes'}),\n",
       " frozenset({'medium_duration'}),\n",
       " frozenset({'medium_src_bytes'}),\n",
       " frozenset({'no_guest_login'}),\n",
       " frozenset({'no_hot_login'}),\n",
       " frozenset({'no_land'}),\n",
       " frozenset({'no_logged_in'}),\n",
       " frozenset({'num_compromised'}),\n",
       " frozenset({'root_shell'}),\n",
       " frozenset({'su_attempted'}),\n",
       " frozenset({'urgent'}),\n",
       " frozenset({'yes_guest_login'}),\n",
       " frozenset({'yes_land'}),\n",
       " frozenset({'yes_logged_in'})]"
      ]
     },
     "execution_count": 56,
     "metadata": {},
     "output_type": "execute_result"
    }
   ],
   "source": [
    "C2 = createC1(normal_baskets)\n",
    "C2"
   ]
  },
  {
   "cell_type": "code",
   "execution_count": 57,
   "metadata": {
    "collapsed": false
   },
   "outputs": [
    {
     "data": {
      "text/plain": [
       "[frozenset({'high_count'}),\n",
       " frozenset({'high_diff_srv_rate'}),\n",
       " frozenset({'high_dst_host_count'}),\n",
       " frozenset({'high_dst_host_diff_srv_rate'}),\n",
       " frozenset({'high_dst_host_sam_srv_rate'}),\n",
       " frozenset({'high_dst_host_same_src_port_rate'}),\n",
       " frozenset({'high_dst_host_serror_rate'}),\n",
       " frozenset({'high_dst_host_srv_count'}),\n",
       " frozenset({'high_dst_host_srv_diff_host_rate'}),\n",
       " frozenset({'high_dst_host_srv_serror_rate'}),\n",
       " frozenset({'high_rerror_rate'}),\n",
       " frozenset({'high_serror_rate'}),\n",
       " frozenset({'high_src_bytes'}),\n",
       " frozenset({'high_srv_count'}),\n",
       " frozenset({'high_srv_diff_host_rate'}),\n",
       " frozenset({'high_srv_rerror_rate'}),\n",
       " frozenset({'high_srv_serror_rate'}),\n",
       " frozenset({'hot'}),\n",
       " frozenset({'low_count'}),\n",
       " frozenset({'low_dst_bytes'}),\n",
       " frozenset({'low_dst_host_count'}),\n",
       " frozenset({'low_dst_host_same_src_port_rate'}),\n",
       " frozenset({'low_dst_host_same_srv_rate'}),\n",
       " frozenset({'low_dst_host_serror_rate'}),\n",
       " frozenset({'low_dst_host_srv_count'}),\n",
       " frozenset({'low_dst_host_srv_serror_rate'}),\n",
       " frozenset({'low_duration'}),\n",
       " frozenset({'low_same_srv_rate'}),\n",
       " frozenset({'low_src_bytes'}),\n",
       " frozenset({'low_srv_count'}),\n",
       " frozenset({'medium_dst_bytes'}),\n",
       " frozenset({'medium_duration'}),\n",
       " frozenset({'medium_src_bytes'}),\n",
       " frozenset({'no_guest_login'}),\n",
       " frozenset({'no_hot_login'}),\n",
       " frozenset({'no_land'}),\n",
       " frozenset({'no_logged_in'}),\n",
       " frozenset({'num_compromised'}),\n",
       " frozenset({'wrong_fragment'}),\n",
       " frozenset({'yes_land'}),\n",
       " frozenset({'yes_logged_in'})]"
      ]
     },
     "execution_count": 57,
     "metadata": {},
     "output_type": "execute_result"
    }
   ],
   "source": [
    "C3 = createC1(dos_baskets)\n",
    "C3"
   ]
  },
  {
   "cell_type": "code",
   "execution_count": 58,
   "metadata": {
    "collapsed": false
   },
   "outputs": [
    {
     "data": {
      "text/plain": [
       "[frozenset({'failed_logins'}),\n",
       " frozenset({'file_creations'}),\n",
       " frozenset({'high_diff_srv_rate'}),\n",
       " frozenset({'high_dst_host_count'}),\n",
       " frozenset({'high_dst_host_diff_srv_rate'}),\n",
       " frozenset({'high_dst_host_sam_srv_rate'}),\n",
       " frozenset({'high_dst_host_same_src_port_rate'}),\n",
       " frozenset({'high_dst_host_serror_rate'}),\n",
       " frozenset({'high_dst_host_srv_count'}),\n",
       " frozenset({'high_dst_host_srv_diff_host_rate'}),\n",
       " frozenset({'high_dst_host_srv_serror_rate'}),\n",
       " frozenset({'high_duration'}),\n",
       " frozenset({'high_num_access_files'}),\n",
       " frozenset({'high_num_root'}),\n",
       " frozenset({'high_num_shells'}),\n",
       " frozenset({'high_rerror_rate'}),\n",
       " frozenset({'high_serror_rate'}),\n",
       " frozenset({'high_src_bytes'}),\n",
       " frozenset({'high_srv_diff_host_rate'}),\n",
       " frozenset({'high_srv_rerror_rate'}),\n",
       " frozenset({'high_srv_serror_rate'}),\n",
       " frozenset({'hot'}),\n",
       " frozenset({'low_count'}),\n",
       " frozenset({'low_dst_bytes'}),\n",
       " frozenset({'low_dst_host_count'}),\n",
       " frozenset({'low_dst_host_same_src_port_rate'}),\n",
       " frozenset({'low_dst_host_same_srv_rate'}),\n",
       " frozenset({'low_dst_host_serror_rate'}),\n",
       " frozenset({'low_dst_host_srv_count'}),\n",
       " frozenset({'low_dst_host_srv_serror_rate'}),\n",
       " frozenset({'low_duration'}),\n",
       " frozenset({'low_same_srv_rate'}),\n",
       " frozenset({'low_src_bytes'}),\n",
       " frozenset({'low_srv_count'}),\n",
       " frozenset({'medium_dst_bytes'}),\n",
       " frozenset({'medium_duration'}),\n",
       " frozenset({'medium_src_bytes'}),\n",
       " frozenset({'no_guest_login'}),\n",
       " frozenset({'no_hot_login'}),\n",
       " frozenset({'no_land'}),\n",
       " frozenset({'no_logged_in'}),\n",
       " frozenset({'num_compromised'}),\n",
       " frozenset({'root_shell'}),\n",
       " frozenset({'su_attempted'}),\n",
       " frozenset({'urgent'}),\n",
       " frozenset({'yes_guest_login'}),\n",
       " frozenset({'yes_logged_in'})]"
      ]
     },
     "execution_count": 58,
     "metadata": {},
     "output_type": "execute_result"
    }
   ],
   "source": [
    "C4 = createC1(rl2_baskets)\n",
    "C4"
   ]
  },
  {
   "cell_type": "code",
   "execution_count": 59,
   "metadata": {
    "collapsed": false
   },
   "outputs": [
    {
     "data": {
      "text/plain": [
       "[frozenset({'high_count'}),\n",
       " frozenset({'high_diff_srv_rate'}),\n",
       " frozenset({'high_dst_host_count'}),\n",
       " frozenset({'high_dst_host_diff_srv_rate'}),\n",
       " frozenset({'high_dst_host_sam_srv_rate'}),\n",
       " frozenset({'high_dst_host_same_src_port_rate'}),\n",
       " frozenset({'high_dst_host_serror_rate'}),\n",
       " frozenset({'high_dst_host_srv_count'}),\n",
       " frozenset({'high_dst_host_srv_diff_host_rate'}),\n",
       " frozenset({'high_dst_host_srv_serror_rate'}),\n",
       " frozenset({'high_duration'}),\n",
       " frozenset({'high_rerror_rate'}),\n",
       " frozenset({'high_serror_rate'}),\n",
       " frozenset({'high_src_bytes'}),\n",
       " frozenset({'high_srv_diff_host_rate'}),\n",
       " frozenset({'high_srv_rerror_rate'}),\n",
       " frozenset({'high_srv_serror_rate'}),\n",
       " frozenset({'hot'}),\n",
       " frozenset({'low_count'}),\n",
       " frozenset({'low_dst_bytes'}),\n",
       " frozenset({'low_dst_host_count'}),\n",
       " frozenset({'low_dst_host_same_src_port_rate'}),\n",
       " frozenset({'low_dst_host_same_srv_rate'}),\n",
       " frozenset({'low_dst_host_serror_rate'}),\n",
       " frozenset({'low_dst_host_srv_count'}),\n",
       " frozenset({'low_dst_host_srv_serror_rate'}),\n",
       " frozenset({'low_duration'}),\n",
       " frozenset({'low_same_srv_rate'}),\n",
       " frozenset({'low_src_bytes'}),\n",
       " frozenset({'low_srv_count'}),\n",
       " frozenset({'medium_dst_bytes'}),\n",
       " frozenset({'medium_duration'}),\n",
       " frozenset({'medium_src_bytes'}),\n",
       " frozenset({'no_guest_login'}),\n",
       " frozenset({'no_hot_login'}),\n",
       " frozenset({'no_land'}),\n",
       " frozenset({'no_logged_in'}),\n",
       " frozenset({'yes_logged_in'})]"
      ]
     },
     "execution_count": 59,
     "metadata": {},
     "output_type": "execute_result"
    }
   ],
   "source": [
    "C5 = createC1(probe_baskets)\n",
    "C5"
   ]
  },
  {
   "cell_type": "code",
   "execution_count": null,
   "metadata": {
    "collapsed": false
   },
   "outputs": [],
   "source": []
  },
  {
   "cell_type": "code",
   "execution_count": 60,
   "metadata": {
    "collapsed": true
   },
   "outputs": [],
   "source": [
    "D1 = map(set, u2r_baskets)"
   ]
  },
  {
   "cell_type": "code",
   "execution_count": 61,
   "metadata": {
    "collapsed": true
   },
   "outputs": [],
   "source": [
    "D2 = map(set, normal_baskets)"
   ]
  },
  {
   "cell_type": "code",
   "execution_count": 62,
   "metadata": {
    "collapsed": false
   },
   "outputs": [],
   "source": [
    "D3 = map(set, dos_baskets)"
   ]
  },
  {
   "cell_type": "code",
   "execution_count": 63,
   "metadata": {
    "collapsed": false
   },
   "outputs": [],
   "source": [
    "D4 = map(set, rl2_baskets)"
   ]
  },
  {
   "cell_type": "code",
   "execution_count": 64,
   "metadata": {
    "collapsed": true
   },
   "outputs": [],
   "source": [
    "D5 = map(set, probe_baskets)"
   ]
  },
  {
   "cell_type": "code",
   "execution_count": 65,
   "metadata": {
    "collapsed": false
   },
   "outputs": [],
   "source": [
    "L1, support_data1 = scanD(D1, C1, .5)"
   ]
  },
  {
   "cell_type": "code",
   "execution_count": 66,
   "metadata": {
    "collapsed": false,
    "scrolled": true
   },
   "outputs": [
    {
     "data": {
      "text/plain": [
       "[frozenset({'low_dst_host_same_src_port_rate'}),\n",
       " frozenset({'low_src_bytes'}),\n",
       " frozenset({'yes_logged_in'}),\n",
       " frozenset({'no_guest_login'}),\n",
       " frozenset({'low_dst_host_srv_serror_rate'}),\n",
       " frozenset({'low_dst_host_serror_rate'}),\n",
       " frozenset({'no_land'}),\n",
       " frozenset({'low_dst_host_count'}),\n",
       " frozenset({'low_count'}),\n",
       " frozenset({'medium_dst_bytes'}),\n",
       " frozenset({'root_shell'}),\n",
       " frozenset({'low_srv_count'}),\n",
       " frozenset({'no_hot_login'}),\n",
       " frozenset({'low_dst_host_srv_count'}),\n",
       " frozenset({'hot'}),\n",
       " frozenset({'high_dst_host_sam_srv_rate'})]"
      ]
     },
     "execution_count": 66,
     "metadata": {},
     "output_type": "execute_result"
    }
   ],
   "source": [
    "#u2r\n",
    "L1"
   ]
  },
  {
   "cell_type": "code",
   "execution_count": 67,
   "metadata": {
    "collapsed": false
   },
   "outputs": [],
   "source": [
    "L2, support_data2 = scanD(D2, C2, .5)"
   ]
  },
  {
   "cell_type": "code",
   "execution_count": 68,
   "metadata": {
    "collapsed": false
   },
   "outputs": [
    {
     "data": {
      "text/plain": [
       "[frozenset({'low_dst_host_same_src_port_rate'}),\n",
       " frozenset({'low_duration'}),\n",
       " frozenset({'high_dst_host_srv_diff_host_rate'}),\n",
       " frozenset({'low_src_bytes'}),\n",
       " frozenset({'yes_logged_in'}),\n",
       " frozenset({'no_guest_login'}),\n",
       " frozenset({'low_dst_host_srv_serror_rate'}),\n",
       " frozenset({'low_dst_host_serror_rate'}),\n",
       " frozenset({'no_land'}),\n",
       " frozenset({'low_dst_host_count'}),\n",
       " frozenset({'low_count'}),\n",
       " frozenset({'medium_dst_bytes'}),\n",
       " frozenset({'high_dst_host_srv_count'}),\n",
       " frozenset({'low_srv_count'}),\n",
       " frozenset({'no_hot_login'}),\n",
       " frozenset({'high_dst_host_sam_srv_rate'})]"
      ]
     },
     "execution_count": 68,
     "metadata": {},
     "output_type": "execute_result"
    }
   ],
   "source": [
    "#normal\n",
    "L2"
   ]
  },
  {
   "cell_type": "code",
   "execution_count": 69,
   "metadata": {
    "collapsed": false
   },
   "outputs": [],
   "source": [
    "L3, support_data3 = scanD(D3, C3, .5)"
   ]
  },
  {
   "cell_type": "code",
   "execution_count": 70,
   "metadata": {
    "collapsed": false
   },
   "outputs": [
    {
     "data": {
      "text/plain": [
       "[frozenset({'low_duration'}),\n",
       " frozenset({'no_guest_login'}),\n",
       " frozenset({'low_dst_host_srv_serror_rate'}),\n",
       " frozenset({'low_dst_host_serror_rate'}),\n",
       " frozenset({'no_logged_in'}),\n",
       " frozenset({'no_land'}),\n",
       " frozenset({'medium_src_bytes'}),\n",
       " frozenset({'high_dst_host_same_src_port_rate'}),\n",
       " frozenset({'high_dst_host_srv_count'}),\n",
       " frozenset({'low_dst_bytes'}),\n",
       " frozenset({'high_dst_host_count'}),\n",
       " frozenset({'high_srv_count'}),\n",
       " frozenset({'no_hot_login'}),\n",
       " frozenset({'high_count'}),\n",
       " frozenset({'high_dst_host_sam_srv_rate'})]"
      ]
     },
     "execution_count": 70,
     "metadata": {},
     "output_type": "execute_result"
    }
   ],
   "source": [
    "#dos\n",
    "L3"
   ]
  },
  {
   "cell_type": "code",
   "execution_count": 71,
   "metadata": {
    "collapsed": false
   },
   "outputs": [],
   "source": [
    "L4, support_data4 = scanD(D4, C4, .5)"
   ]
  },
  {
   "cell_type": "code",
   "execution_count": 72,
   "metadata": {
    "collapsed": false
   },
   "outputs": [
    {
     "data": {
      "text/plain": [
       "[frozenset({'high_dst_host_srv_diff_host_rate'}),\n",
       " frozenset({'low_src_bytes'}),\n",
       " frozenset({'yes_logged_in'}),\n",
       " frozenset({'no_guest_login'}),\n",
       " frozenset({'low_duration'}),\n",
       " frozenset({'low_dst_host_srv_serror_rate'}),\n",
       " frozenset({'low_dst_host_serror_rate'}),\n",
       " frozenset({'no_land'}),\n",
       " frozenset({'low_dst_host_count'}),\n",
       " frozenset({'low_count'}),\n",
       " frozenset({'high_dst_host_same_src_port_rate'}),\n",
       " frozenset({'low_dst_bytes'}),\n",
       " frozenset({'low_srv_count'}),\n",
       " frozenset({'no_hot_login'}),\n",
       " frozenset({'low_dst_host_srv_count'}),\n",
       " frozenset({'high_dst_host_sam_srv_rate'})]"
      ]
     },
     "execution_count": 72,
     "metadata": {},
     "output_type": "execute_result"
    }
   ],
   "source": [
    "#rl2\n",
    "L4"
   ]
  },
  {
   "cell_type": "code",
   "execution_count": 73,
   "metadata": {
    "collapsed": false
   },
   "outputs": [],
   "source": [
    "L5, support_data5 = scanD(D5, C5, .5)"
   ]
  },
  {
   "cell_type": "code",
   "execution_count": 74,
   "metadata": {
    "collapsed": false
   },
   "outputs": [
    {
     "data": {
      "text/plain": [
       "[frozenset({'low_duration'}),\n",
       " frozenset({'low_src_bytes'}),\n",
       " frozenset({'no_guest_login'}),\n",
       " frozenset({'low_dst_host_srv_serror_rate'}),\n",
       " frozenset({'low_dst_host_serror_rate'}),\n",
       " frozenset({'no_logged_in'}),\n",
       " frozenset({'no_land'}),\n",
       " frozenset({'high_rerror_rate'}),\n",
       " frozenset({'high_dst_host_diff_srv_rate'}),\n",
       " frozenset({'low_count'}),\n",
       " frozenset({'low_dst_host_same_srv_rate'}),\n",
       " frozenset({'high_dst_host_same_src_port_rate'}),\n",
       " frozenset({'low_dst_bytes'}),\n",
       " frozenset({'high_dst_host_count'}),\n",
       " frozenset({'low_srv_count'}),\n",
       " frozenset({'no_hot_login'}),\n",
       " frozenset({'low_dst_host_srv_count'}),\n",
       " frozenset({'high_srv_rerror_rate'})]"
      ]
     },
     "execution_count": 74,
     "metadata": {},
     "output_type": "execute_result"
    }
   ],
   "source": [
    "#probe\n",
    "L5"
   ]
  },
  {
   "cell_type": "code",
   "execution_count": 75,
   "metadata": {
    "collapsed": true
   },
   "outputs": [],
   "source": [
    "# The following are common to all sets so it represents a \"don't care\" for the groups"
   ]
  },
  {
   "cell_type": "code",
   "execution_count": 76,
   "metadata": {
    "collapsed": false
   },
   "outputs": [
    {
     "data": {
      "text/plain": [
       "{frozenset({'low_dst_host_serror_rate'}),\n",
       " frozenset({'no_hot_login'}),\n",
       " frozenset({'low_dst_host_srv_serror_rate'}),\n",
       " frozenset({'no_land'}),\n",
       " frozenset({'no_guest_login'})}"
      ]
     },
     "execution_count": 76,
     "metadata": {},
     "output_type": "execute_result"
    }
   ],
   "source": [
    "set(L1) & set(L2) & set(L3) & set(L4) & set(L5)"
   ]
  },
  {
   "cell_type": "code",
   "execution_count": 77,
   "metadata": {
    "collapsed": false
   },
   "outputs": [],
   "source": [
    "L1 = [x for x in L1 if x != frozenset({'low_dst_host_serror_rate'})]\n",
    "L1 = [x for x in L1 if x != frozenset({'no_hot_login'})]\n",
    "L1 = [x for x in L1 if x != frozenset({'low_dst_host_srv_serror_rate'})]\n",
    "L1 = [x for x in L1 if x != frozenset({'no_land'})]\n",
    "L1 = [x for x in L1 if x != frozenset({'no_guest_login'})]\n",
    "\n",
    "L2 = [x for x in L2 if x != frozenset({'low_dst_host_serror_rate'})]\n",
    "L2 = [x for x in L2 if x != frozenset({'no_hot_login'})]\n",
    "L2 = [x for x in L2 if x != frozenset({'low_dst_host_srv_serror_rate'})]\n",
    "L2 = [x for x in L2 if x != frozenset({'no_land'})]\n",
    "L2 = [x for x in L2 if x != frozenset({'no_guest_login'})]\n",
    "\n",
    "L3 = [x for x in L3 if x != frozenset({'low_dst_host_serror_rate'})]\n",
    "L3 = [x for x in L3 if x != frozenset({'no_hot_login'})]\n",
    "L3 = [x for x in L3 if x != frozenset({'low_dst_host_srv_serror_rate'})]\n",
    "L3 = [x for x in L3 if x != frozenset({'no_land'})]\n",
    "L3 = [x for x in L3 if x != frozenset({'no_guest_login'})]\n",
    "\n",
    "L4 = [x for x in L4 if x != frozenset({'low_dst_host_serror_rate'})]\n",
    "L4 = [x for x in L4 if x != frozenset({'no_hot_login'})]\n",
    "L4 = [x for x in L4 if x != frozenset({'low_dst_host_srv_serror_rate'})]\n",
    "L4 = [x for x in L4 if x != frozenset({'no_land'})]\n",
    "L4 = [x for x in L4 if x != frozenset({'no_guest_login'})]\n",
    "\n",
    "L5 = [x for x in L5 if x != frozenset({'low_dst_host_serror_rate'})]\n",
    "L5 = [x for x in L5 if x != frozenset({'no_hot_login'})]\n",
    "L5 = [x for x in L5 if x != frozenset({'low_dst_host_srv_serror_rate'})]\n",
    "L5 = [x for x in L5 if x != frozenset({'no_land'})]\n",
    "L5 = [x for x in L5 if x != frozenset({'no_guest_login'})]"
   ]
  },
  {
   "cell_type": "code",
   "execution_count": null,
   "metadata": {
    "collapsed": true
   },
   "outputs": [],
   "source": []
  },
  {
   "cell_type": "code",
   "execution_count": 78,
   "metadata": {
    "collapsed": false
   },
   "outputs": [
    {
     "data": {
      "text/plain": [
       "[frozenset({'low_dst_host_same_src_port_rate'}),\n",
       " frozenset({'low_src_bytes'}),\n",
       " frozenset({'yes_logged_in'}),\n",
       " frozenset({'low_dst_host_count'}),\n",
       " frozenset({'low_count'}),\n",
       " frozenset({'medium_dst_bytes'}),\n",
       " frozenset({'root_shell'}),\n",
       " frozenset({'low_srv_count'}),\n",
       " frozenset({'low_dst_host_srv_count'}),\n",
       " frozenset({'hot'}),\n",
       " frozenset({'high_dst_host_sam_srv_rate'})]"
      ]
     },
     "execution_count": 78,
     "metadata": {},
     "output_type": "execute_result"
    }
   ],
   "source": [
    "#u2r\n",
    "L1"
   ]
  },
  {
   "cell_type": "code",
   "execution_count": 79,
   "metadata": {
    "collapsed": false
   },
   "outputs": [
    {
     "data": {
      "text/plain": [
       "[frozenset({'low_dst_host_same_src_port_rate'}),\n",
       " frozenset({'low_duration'}),\n",
       " frozenset({'high_dst_host_srv_diff_host_rate'}),\n",
       " frozenset({'low_src_bytes'}),\n",
       " frozenset({'yes_logged_in'}),\n",
       " frozenset({'low_dst_host_count'}),\n",
       " frozenset({'low_count'}),\n",
       " frozenset({'medium_dst_bytes'}),\n",
       " frozenset({'high_dst_host_srv_count'}),\n",
       " frozenset({'low_srv_count'}),\n",
       " frozenset({'high_dst_host_sam_srv_rate'})]"
      ]
     },
     "execution_count": 79,
     "metadata": {},
     "output_type": "execute_result"
    }
   ],
   "source": [
    "#normal\n",
    "L2"
   ]
  },
  {
   "cell_type": "code",
   "execution_count": 80,
   "metadata": {
    "collapsed": false
   },
   "outputs": [
    {
     "data": {
      "text/plain": [
       "[frozenset({'low_duration'}),\n",
       " frozenset({'no_logged_in'}),\n",
       " frozenset({'medium_src_bytes'}),\n",
       " frozenset({'high_dst_host_same_src_port_rate'}),\n",
       " frozenset({'high_dst_host_srv_count'}),\n",
       " frozenset({'low_dst_bytes'}),\n",
       " frozenset({'high_dst_host_count'}),\n",
       " frozenset({'high_srv_count'}),\n",
       " frozenset({'high_count'}),\n",
       " frozenset({'high_dst_host_sam_srv_rate'})]"
      ]
     },
     "execution_count": 80,
     "metadata": {},
     "output_type": "execute_result"
    }
   ],
   "source": [
    "#dos\n",
    "L3"
   ]
  },
  {
   "cell_type": "code",
   "execution_count": 81,
   "metadata": {
    "collapsed": false
   },
   "outputs": [
    {
     "data": {
      "text/plain": [
       "[frozenset({'high_dst_host_srv_diff_host_rate'}),\n",
       " frozenset({'low_src_bytes'}),\n",
       " frozenset({'yes_logged_in'}),\n",
       " frozenset({'low_duration'}),\n",
       " frozenset({'low_dst_host_count'}),\n",
       " frozenset({'low_count'}),\n",
       " frozenset({'high_dst_host_same_src_port_rate'}),\n",
       " frozenset({'low_dst_bytes'}),\n",
       " frozenset({'low_srv_count'}),\n",
       " frozenset({'low_dst_host_srv_count'}),\n",
       " frozenset({'high_dst_host_sam_srv_rate'})]"
      ]
     },
     "execution_count": 81,
     "metadata": {},
     "output_type": "execute_result"
    }
   ],
   "source": [
    "#rl2\n",
    "L4"
   ]
  },
  {
   "cell_type": "code",
   "execution_count": 82,
   "metadata": {
    "collapsed": false
   },
   "outputs": [
    {
     "data": {
      "text/plain": [
       "[frozenset({'low_duration'}),\n",
       " frozenset({'low_src_bytes'}),\n",
       " frozenset({'no_logged_in'}),\n",
       " frozenset({'high_rerror_rate'}),\n",
       " frozenset({'high_dst_host_diff_srv_rate'}),\n",
       " frozenset({'low_count'}),\n",
       " frozenset({'low_dst_host_same_srv_rate'}),\n",
       " frozenset({'high_dst_host_same_src_port_rate'}),\n",
       " frozenset({'low_dst_bytes'}),\n",
       " frozenset({'high_dst_host_count'}),\n",
       " frozenset({'low_srv_count'}),\n",
       " frozenset({'low_dst_host_srv_count'}),\n",
       " frozenset({'high_srv_rerror_rate'})]"
      ]
     },
     "execution_count": 82,
     "metadata": {},
     "output_type": "execute_result"
    }
   ],
   "source": [
    "#probe\n",
    "L5"
   ]
  },
  {
   "cell_type": "code",
   "execution_count": null,
   "metadata": {
    "collapsed": false
   },
   "outputs": [],
   "source": []
  },
  {
   "cell_type": "code",
   "execution_count": null,
   "metadata": {
    "collapsed": false,
    "scrolled": true
   },
   "outputs": [],
   "source": []
  },
  {
   "cell_type": "code",
   "execution_count": 95,
   "metadata": {
    "collapsed": false
   },
   "outputs": [],
   "source": [
    "def make_guess(test_signature):\n",
    "    C_test = []\n",
    "    C_test.append(test_signature)\n",
    "    C_test = createC1(C_test)\n",
    "    dif1 = len(set(C_test) & set(L1))\n",
    "    dif2 = len(set(C_test) & set(L2))\n",
    "    dif3 = len(set(C_test) & set(L3))\n",
    "    dif4 = len(set(C_test) & set(L4))\n",
    "    dif5 = len(set(C_test) & set(L5))\n",
    "    \n",
    "    max = dif2\n",
    "    result = \"normal\"\n",
    "    if dif1 > max:\n",
    "        max = dif1\n",
    "        result = \"u2r\"\n",
    "    if dif3 > max:\n",
    "        max = dif3\n",
    "        result = \"dos\"\n",
    "    if dif4 > max:\n",
    "        max = dif4\n",
    "        result = \"rl2\"\n",
    "    if dif5 > max:\n",
    "        result = \"probe\"\n",
    "    return result\n",
    "    "
   ]
  },
  {
   "cell_type": "code",
   "execution_count": 96,
   "metadata": {
    "collapsed": false
   },
   "outputs": [
    {
     "name": "stdout",
     "output_type": "stream",
     "text": [
      "num correct 78213\n",
      "num false negative 19065\n",
      "percent correct 80.4015296367\n",
      "false negative percent 19.5984703633\n"
     ]
    }
   ],
   "source": [
    "correct = 0\n",
    "false_negative = 0\n",
    "for x in range(len(normal_baskets)):\n",
    "    result = make_guess(normal_baskets[x])\n",
    "    if result == \"normal\":\n",
    "        correct = correct +1\n",
    "    else:\n",
    "        false_negative = false_negative +1\n",
    "print \"num correct \" + str(correct)\n",
    "print \"num false negative \" + str(false_negative)\n",
    "print \"percent correct \" + str(100* float(correct)/(float(correct+false_negative)))\n",
    "print \"false negative percent \" + str(100* float(false_negative)/(float(correct+false_negative)))"
   ]
  },
  {
   "cell_type": "code",
   "execution_count": null,
   "metadata": {
    "collapsed": false
   },
   "outputs": [],
   "source": []
  },
  {
   "cell_type": "code",
   "execution_count": null,
   "metadata": {
    "collapsed": true
   },
   "outputs": [],
   "source": []
  }
 ],
 "metadata": {
  "kernelspec": {
   "display_name": "Python 2",
   "language": "python",
   "name": "python2"
  },
  "language_info": {
   "codemirror_mode": {
    "name": "ipython",
    "version": 2
   },
   "file_extension": ".py",
   "mimetype": "text/x-python",
   "name": "python",
   "nbconvert_exporter": "python",
   "pygments_lexer": "ipython2",
   "version": "2.7.9"
  }
 },
 "nbformat": 4,
 "nbformat_minor": 0
}
